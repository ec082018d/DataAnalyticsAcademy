{
 "cells": [
  {
   "cell_type": "markdown",
   "metadata": {},
   "source": [
    "#### U3 L7 Project2: \n",
    "###### The purpose of this project is to compare Chest Pain Type, Resting Blood Pressure, Serum Cholestoral, Maximum Heart Rate by age group and sex."
   ]
  },
  {
   "cell_type": "code",
   "execution_count": 1,
   "metadata": {},
   "outputs": [
    {
     "data": {
      "text/html": [
       "<style>.container { width:100% !important; }</style>"
      ],
      "text/plain": [
       "<IPython.core.display.HTML object>"
      ]
     },
     "metadata": {},
     "output_type": "display_data"
    }
   ],
   "source": [
    "import matplotlib.pyplot as plt\n",
    "import pandas as pd\n",
    "import numpy as np\n",
    "import seaborn as sns\n",
    "#from plotly import __version__\n",
    "#import cufflinks as cf\n",
    "#from plotly.offline import download_plotlyjs, init_notebook_mode, plot, iplot \n",
    "#cf.go_offline()\n",
    "from IPython.core.display import display, HTML\n",
    "from IPython.core.interactiveshell import InteractiveShell\n",
    "\n",
    "InteractiveShell.ast_node_interactivity = \"all\"\n",
    "display(HTML(\"<style>.container { width:100% !important; }</style>\"))\n",
    "\n",
    "\n",
    "%matplotlib inline"
   ]
  },
  {
   "cell_type": "code",
   "execution_count": 2,
   "metadata": {},
   "outputs": [],
   "source": [
    "#load data\n",
    "df_raw = pd.read_csv(\"heart-disease/processed.cleveland.data.csv\", low_memory=False)"
   ]
  },
  {
   "cell_type": "code",
   "execution_count": 10,
   "metadata": {},
   "outputs": [
    {
     "data": {
      "text/html": [
       "<div>\n",
       "<style scoped>\n",
       "    .dataframe tbody tr th:only-of-type {\n",
       "        vertical-align: middle;\n",
       "    }\n",
       "\n",
       "    .dataframe tbody tr th {\n",
       "        vertical-align: top;\n",
       "    }\n",
       "\n",
       "    .dataframe thead th {\n",
       "        text-align: right;\n",
       "    }\n",
       "</style>\n",
       "<table border=\"1\" class=\"dataframe\">\n",
       "  <thead>\n",
       "    <tr style=\"text-align: right;\">\n",
       "      <th></th>\n",
       "      <th>age</th>\n",
       "      <th>sex</th>\n",
       "      <th>chest_pain_type</th>\n",
       "      <th>resting_blood_pressure</th>\n",
       "      <th>serum_cholestoral</th>\n",
       "      <th>fasting_blood_sugar</th>\n",
       "      <th>resting_electrocardiographic_results</th>\n",
       "      <th>maximum_heart_rate</th>\n",
       "      <th>exercise_induced_angina</th>\n",
       "      <th>oldpeak</th>\n",
       "      <th>slope</th>\n",
       "      <th>num_of_major_vessels</th>\n",
       "      <th>thal</th>\n",
       "      <th>diag_of_heart_disease</th>\n",
       "    </tr>\n",
       "  </thead>\n",
       "  <tbody>\n",
       "    <tr>\n",
       "      <th>0</th>\n",
       "      <td>63</td>\n",
       "      <td>1</td>\n",
       "      <td>1</td>\n",
       "      <td>145</td>\n",
       "      <td>233</td>\n",
       "      <td>1</td>\n",
       "      <td>2</td>\n",
       "      <td>150</td>\n",
       "      <td>0</td>\n",
       "      <td>2.3</td>\n",
       "      <td>3</td>\n",
       "      <td>0</td>\n",
       "      <td>6</td>\n",
       "      <td>0</td>\n",
       "    </tr>\n",
       "    <tr>\n",
       "      <th>1</th>\n",
       "      <td>67</td>\n",
       "      <td>1</td>\n",
       "      <td>4</td>\n",
       "      <td>160</td>\n",
       "      <td>286</td>\n",
       "      <td>0</td>\n",
       "      <td>2</td>\n",
       "      <td>108</td>\n",
       "      <td>1</td>\n",
       "      <td>1.5</td>\n",
       "      <td>2</td>\n",
       "      <td>3</td>\n",
       "      <td>3</td>\n",
       "      <td>2</td>\n",
       "    </tr>\n",
       "    <tr>\n",
       "      <th>2</th>\n",
       "      <td>67</td>\n",
       "      <td>1</td>\n",
       "      <td>4</td>\n",
       "      <td>120</td>\n",
       "      <td>229</td>\n",
       "      <td>0</td>\n",
       "      <td>2</td>\n",
       "      <td>129</td>\n",
       "      <td>1</td>\n",
       "      <td>2.6</td>\n",
       "      <td>2</td>\n",
       "      <td>2</td>\n",
       "      <td>7</td>\n",
       "      <td>1</td>\n",
       "    </tr>\n",
       "    <tr>\n",
       "      <th>3</th>\n",
       "      <td>37</td>\n",
       "      <td>1</td>\n",
       "      <td>3</td>\n",
       "      <td>130</td>\n",
       "      <td>250</td>\n",
       "      <td>0</td>\n",
       "      <td>0</td>\n",
       "      <td>187</td>\n",
       "      <td>0</td>\n",
       "      <td>3.5</td>\n",
       "      <td>3</td>\n",
       "      <td>0</td>\n",
       "      <td>3</td>\n",
       "      <td>0</td>\n",
       "    </tr>\n",
       "    <tr>\n",
       "      <th>4</th>\n",
       "      <td>41</td>\n",
       "      <td>0</td>\n",
       "      <td>2</td>\n",
       "      <td>130</td>\n",
       "      <td>204</td>\n",
       "      <td>0</td>\n",
       "      <td>2</td>\n",
       "      <td>172</td>\n",
       "      <td>0</td>\n",
       "      <td>1.4</td>\n",
       "      <td>1</td>\n",
       "      <td>0</td>\n",
       "      <td>3</td>\n",
       "      <td>0</td>\n",
       "    </tr>\n",
       "  </tbody>\n",
       "</table>\n",
       "</div>"
      ],
      "text/plain": [
       "   age  sex  chest_pain_type  resting_blood_pressure  serum_cholestoral  \\\n",
       "0   63    1                1                     145                233   \n",
       "1   67    1                4                     160                286   \n",
       "2   67    1                4                     120                229   \n",
       "3   37    1                3                     130                250   \n",
       "4   41    0                2                     130                204   \n",
       "\n",
       "   fasting_blood_sugar  resting_electrocardiographic_results  \\\n",
       "0                    1                                     2   \n",
       "1                    0                                     2   \n",
       "2                    0                                     2   \n",
       "3                    0                                     0   \n",
       "4                    0                                     2   \n",
       "\n",
       "   maximum_heart_rate  exercise_induced_angina  oldpeak  slope  \\\n",
       "0                 150                        0      2.3      3   \n",
       "1                 108                        1      1.5      2   \n",
       "2                 129                        1      2.6      2   \n",
       "3                 187                        0      3.5      3   \n",
       "4                 172                        0      1.4      1   \n",
       "\n",
       "  num_of_major_vessels thal  diag_of_heart_disease  \n",
       "0                    0    6                      0  \n",
       "1                    3    3                      2  \n",
       "2                    2    7                      1  \n",
       "3                    0    3                      0  \n",
       "4                    0    3                      0  "
      ]
     },
     "execution_count": 10,
     "metadata": {},
     "output_type": "execute_result"
    }
   ],
   "source": [
    "df_raw.head()"
   ]
  },
  {
   "cell_type": "markdown",
   "metadata": {},
   "source": [
    "### Data Cleaning"
   ]
  },
  {
   "cell_type": "markdown",
   "metadata": {},
   "source": [
    "###### Renaming Columns"
   ]
  },
  {
   "cell_type": "code",
   "execution_count": 3,
   "metadata": {
    "scrolled": true
   },
   "outputs": [
    {
     "data": {
      "text/plain": [
       "Index(['age', 'sex', 'chest_pain_type', 'resting_blood_pressure',\n",
       "       'serum_cholestoral', 'fasting_blood_sugar',\n",
       "       'resting_electrocardiographic_results', 'maximum_heart_rate',\n",
       "       'exercise_induced_angina', 'oldpeak', 'slope', 'num_of_major_vessels',\n",
       "       'thal', 'diag_of_heart_disease'],\n",
       "      dtype='object')"
      ]
     },
     "execution_count": 3,
     "metadata": {},
     "output_type": "execute_result"
    }
   ],
   "source": [
    "df_raw.rename(columns={'cp': 'chest_pain_type', 'trestbps':'resting_blood_pressure','chol':'serum_cholestoral', 'fbs':'fasting_blood_sugar', 'restecg':'resting_electrocardiographic_results','thalach':'maximum_heart_rate','exang':'exercise_induced_angina','ca':'num_of_major_vessels','num':'diag_of_heart_disease'}, inplace=True) \n",
    "df_raw.columns"
   ]
  },
  {
   "cell_type": "markdown",
   "metadata": {},
   "source": [
    "### Descriptive Statistics"
   ]
  },
  {
   "cell_type": "code",
   "execution_count": 5,
   "metadata": {
    "scrolled": true
   },
   "outputs": [
    {
     "data": {
      "text/html": [
       "<div>\n",
       "<style scoped>\n",
       "    .dataframe tbody tr th:only-of-type {\n",
       "        vertical-align: middle;\n",
       "    }\n",
       "\n",
       "    .dataframe tbody tr th {\n",
       "        vertical-align: top;\n",
       "    }\n",
       "\n",
       "    .dataframe thead th {\n",
       "        text-align: right;\n",
       "    }\n",
       "</style>\n",
       "<table border=\"1\" class=\"dataframe\">\n",
       "  <thead>\n",
       "    <tr style=\"text-align: right;\">\n",
       "      <th></th>\n",
       "      <th>count</th>\n",
       "      <th>mean</th>\n",
       "      <th>std</th>\n",
       "      <th>min</th>\n",
       "      <th>25%</th>\n",
       "      <th>50%</th>\n",
       "      <th>75%</th>\n",
       "      <th>max</th>\n",
       "    </tr>\n",
       "  </thead>\n",
       "  <tbody>\n",
       "    <tr>\n",
       "      <th>age</th>\n",
       "      <td>303.0</td>\n",
       "      <td>54.438944</td>\n",
       "      <td>9.038662</td>\n",
       "      <td>29.0</td>\n",
       "      <td>48.0</td>\n",
       "      <td>56.0</td>\n",
       "      <td>61.0</td>\n",
       "      <td>77.0</td>\n",
       "    </tr>\n",
       "    <tr>\n",
       "      <th>sex</th>\n",
       "      <td>303.0</td>\n",
       "      <td>0.679868</td>\n",
       "      <td>0.467299</td>\n",
       "      <td>0.0</td>\n",
       "      <td>0.0</td>\n",
       "      <td>1.0</td>\n",
       "      <td>1.0</td>\n",
       "      <td>1.0</td>\n",
       "    </tr>\n",
       "    <tr>\n",
       "      <th>chest_pain_type</th>\n",
       "      <td>303.0</td>\n",
       "      <td>3.158416</td>\n",
       "      <td>0.960126</td>\n",
       "      <td>1.0</td>\n",
       "      <td>3.0</td>\n",
       "      <td>3.0</td>\n",
       "      <td>4.0</td>\n",
       "      <td>4.0</td>\n",
       "    </tr>\n",
       "    <tr>\n",
       "      <th>resting_blood_pressure</th>\n",
       "      <td>303.0</td>\n",
       "      <td>131.689769</td>\n",
       "      <td>17.599748</td>\n",
       "      <td>94.0</td>\n",
       "      <td>120.0</td>\n",
       "      <td>130.0</td>\n",
       "      <td>140.0</td>\n",
       "      <td>200.0</td>\n",
       "    </tr>\n",
       "    <tr>\n",
       "      <th>serum_cholestoral</th>\n",
       "      <td>303.0</td>\n",
       "      <td>246.693069</td>\n",
       "      <td>51.776918</td>\n",
       "      <td>126.0</td>\n",
       "      <td>211.0</td>\n",
       "      <td>241.0</td>\n",
       "      <td>275.0</td>\n",
       "      <td>564.0</td>\n",
       "    </tr>\n",
       "    <tr>\n",
       "      <th>fasting_blood_sugar</th>\n",
       "      <td>303.0</td>\n",
       "      <td>0.148515</td>\n",
       "      <td>0.356198</td>\n",
       "      <td>0.0</td>\n",
       "      <td>0.0</td>\n",
       "      <td>0.0</td>\n",
       "      <td>0.0</td>\n",
       "      <td>1.0</td>\n",
       "    </tr>\n",
       "    <tr>\n",
       "      <th>resting_electrocardiographic_results</th>\n",
       "      <td>303.0</td>\n",
       "      <td>0.990099</td>\n",
       "      <td>0.994971</td>\n",
       "      <td>0.0</td>\n",
       "      <td>0.0</td>\n",
       "      <td>1.0</td>\n",
       "      <td>2.0</td>\n",
       "      <td>2.0</td>\n",
       "    </tr>\n",
       "    <tr>\n",
       "      <th>maximum_heart_rate</th>\n",
       "      <td>303.0</td>\n",
       "      <td>149.607261</td>\n",
       "      <td>22.875003</td>\n",
       "      <td>71.0</td>\n",
       "      <td>133.5</td>\n",
       "      <td>153.0</td>\n",
       "      <td>166.0</td>\n",
       "      <td>202.0</td>\n",
       "    </tr>\n",
       "    <tr>\n",
       "      <th>exercise_induced_angina</th>\n",
       "      <td>303.0</td>\n",
       "      <td>0.326733</td>\n",
       "      <td>0.469794</td>\n",
       "      <td>0.0</td>\n",
       "      <td>0.0</td>\n",
       "      <td>0.0</td>\n",
       "      <td>1.0</td>\n",
       "      <td>1.0</td>\n",
       "    </tr>\n",
       "    <tr>\n",
       "      <th>oldpeak</th>\n",
       "      <td>303.0</td>\n",
       "      <td>1.039604</td>\n",
       "      <td>1.161075</td>\n",
       "      <td>0.0</td>\n",
       "      <td>0.0</td>\n",
       "      <td>0.8</td>\n",
       "      <td>1.6</td>\n",
       "      <td>6.2</td>\n",
       "    </tr>\n",
       "    <tr>\n",
       "      <th>slope</th>\n",
       "      <td>303.0</td>\n",
       "      <td>1.600660</td>\n",
       "      <td>0.616226</td>\n",
       "      <td>1.0</td>\n",
       "      <td>1.0</td>\n",
       "      <td>2.0</td>\n",
       "      <td>2.0</td>\n",
       "      <td>3.0</td>\n",
       "    </tr>\n",
       "    <tr>\n",
       "      <th>diag_of_heart_disease</th>\n",
       "      <td>303.0</td>\n",
       "      <td>0.937294</td>\n",
       "      <td>1.228536</td>\n",
       "      <td>0.0</td>\n",
       "      <td>0.0</td>\n",
       "      <td>0.0</td>\n",
       "      <td>2.0</td>\n",
       "      <td>4.0</td>\n",
       "    </tr>\n",
       "  </tbody>\n",
       "</table>\n",
       "</div>"
      ],
      "text/plain": [
       "                                      count        mean        std    min  \\\n",
       "age                                   303.0   54.438944   9.038662   29.0   \n",
       "sex                                   303.0    0.679868   0.467299    0.0   \n",
       "chest_pain_type                       303.0    3.158416   0.960126    1.0   \n",
       "resting_blood_pressure                303.0  131.689769  17.599748   94.0   \n",
       "serum_cholestoral                     303.0  246.693069  51.776918  126.0   \n",
       "fasting_blood_sugar                   303.0    0.148515   0.356198    0.0   \n",
       "resting_electrocardiographic_results  303.0    0.990099   0.994971    0.0   \n",
       "maximum_heart_rate                    303.0  149.607261  22.875003   71.0   \n",
       "exercise_induced_angina               303.0    0.326733   0.469794    0.0   \n",
       "oldpeak                               303.0    1.039604   1.161075    0.0   \n",
       "slope                                 303.0    1.600660   0.616226    1.0   \n",
       "diag_of_heart_disease                 303.0    0.937294   1.228536    0.0   \n",
       "\n",
       "                                        25%    50%    75%    max  \n",
       "age                                    48.0   56.0   61.0   77.0  \n",
       "sex                                     0.0    1.0    1.0    1.0  \n",
       "chest_pain_type                         3.0    3.0    4.0    4.0  \n",
       "resting_blood_pressure                120.0  130.0  140.0  200.0  \n",
       "serum_cholestoral                     211.0  241.0  275.0  564.0  \n",
       "fasting_blood_sugar                     0.0    0.0    0.0    1.0  \n",
       "resting_electrocardiographic_results    0.0    1.0    2.0    2.0  \n",
       "maximum_heart_rate                    133.5  153.0  166.0  202.0  \n",
       "exercise_induced_angina                 0.0    0.0    1.0    1.0  \n",
       "oldpeak                                 0.0    0.8    1.6    6.2  \n",
       "slope                                   1.0    2.0    2.0    3.0  \n",
       "diag_of_heart_disease                   0.0    0.0    2.0    4.0  "
      ]
     },
     "execution_count": 5,
     "metadata": {},
     "output_type": "execute_result"
    }
   ],
   "source": [
    "df_raw.describe().T\n"
   ]
  },
  {
   "cell_type": "markdown",
   "metadata": {},
   "source": [
    "    Catagroical Colomns"
   ]
  },
  {
   "cell_type": "code",
   "execution_count": 11,
   "metadata": {},
   "outputs": [
    {
     "name": "stdout",
     "output_type": "stream",
     "text": [
      "\n",
      "\n"
     ]
    },
    {
     "data": {
      "text/plain": [
       "1    206\n",
       "0     97\n",
       "Name: sex, dtype: int64"
      ]
     },
     "execution_count": 11,
     "metadata": {},
     "output_type": "execute_result"
    },
    {
     "name": "stdout",
     "output_type": "stream",
     "text": [
      "\n",
      "\n"
     ]
    },
    {
     "data": {
      "text/plain": [
       "4    144\n",
       "3     86\n",
       "2     50\n",
       "1     23\n",
       "Name: chest_pain_type, dtype: int64"
      ]
     },
     "execution_count": 11,
     "metadata": {},
     "output_type": "execute_result"
    },
    {
     "name": "stdout",
     "output_type": "stream",
     "text": [
      "\n",
      "\n"
     ]
    },
    {
     "data": {
      "text/plain": [
       "0    258\n",
       "1     45\n",
       "Name: fasting_blood_sugar, dtype: int64"
      ]
     },
     "execution_count": 11,
     "metadata": {},
     "output_type": "execute_result"
    },
    {
     "name": "stdout",
     "output_type": "stream",
     "text": [
      "\n",
      "\n"
     ]
    },
    {
     "data": {
      "text/plain": [
       "0    151\n",
       "2    148\n",
       "1      4\n",
       "Name: resting_electrocardiographic_results, dtype: int64"
      ]
     },
     "execution_count": 11,
     "metadata": {},
     "output_type": "execute_result"
    },
    {
     "name": "stdout",
     "output_type": "stream",
     "text": [
      "\n",
      "\n"
     ]
    },
    {
     "data": {
      "text/plain": [
       "0    204\n",
       "1     99\n",
       "Name: exercise_induced_angina, dtype: int64"
      ]
     },
     "execution_count": 11,
     "metadata": {},
     "output_type": "execute_result"
    },
    {
     "name": "stdout",
     "output_type": "stream",
     "text": [
      "\n",
      "\n"
     ]
    },
    {
     "data": {
      "text/plain": [
       "1    142\n",
       "2    140\n",
       "3     21\n",
       "Name: slope, dtype: int64"
      ]
     },
     "execution_count": 11,
     "metadata": {},
     "output_type": "execute_result"
    },
    {
     "name": "stdout",
     "output_type": "stream",
     "text": [
      "\n",
      "\n"
     ]
    },
    {
     "data": {
      "text/plain": [
       "0    176\n",
       "1     65\n",
       "2     38\n",
       "3     20\n",
       "?      4\n",
       "Name: num_of_major_vessels, dtype: int64"
      ]
     },
     "execution_count": 11,
     "metadata": {},
     "output_type": "execute_result"
    },
    {
     "name": "stdout",
     "output_type": "stream",
     "text": [
      "\n",
      "\n"
     ]
    },
    {
     "data": {
      "text/plain": [
       "3    166\n",
       "7    117\n",
       "6     18\n",
       "?      2\n",
       "Name: thal, dtype: int64"
      ]
     },
     "execution_count": 11,
     "metadata": {},
     "output_type": "execute_result"
    },
    {
     "name": "stdout",
     "output_type": "stream",
     "text": [
      "\n",
      "\n"
     ]
    },
    {
     "data": {
      "text/plain": [
       "0    164\n",
       "1     55\n",
       "2     36\n",
       "3     35\n",
       "4     13\n",
       "Name: diag_of_heart_disease, dtype: int64"
      ]
     },
     "execution_count": 11,
     "metadata": {},
     "output_type": "execute_result"
    }
   ],
   "source": [
    "df_cat_cols =  df_raw[['sex','chest_pain_type','fasting_blood_sugar','resting_electrocardiographic_results','exercise_induced_angina','slope','num_of_major_vessels','thal','diag_of_heart_disease']].columns\n",
    "\n",
    "for c in df_cat_cols:\n",
    "    c_counts = df_raw[c].value_counts()\n",
    "    print(\"\\n\")\n",
    "    c_counts"
   ]
  },
  {
   "cell_type": "markdown",
   "metadata": {},
   "source": [
    "    Checking for Null values"
   ]
  },
  {
   "cell_type": "code",
   "execution_count": 16,
   "metadata": {
    "scrolled": true
   },
   "outputs": [
    {
     "data": {
      "text/plain": [
       "age                                     0\n",
       "sex                                     0\n",
       "chest_pain_type                         0\n",
       "resting_blood_pressure                  0\n",
       "serum_cholestoral                       0\n",
       "fasting_blood_sugar                     0\n",
       "resting_electrocardiographic_results    0\n",
       "maximum_heart_rate                      0\n",
       "exercise_induced_angina                 0\n",
       "oldpeak                                 0\n",
       "slope                                   0\n",
       "num_of_major_vessels                    0\n",
       "thal                                    0\n",
       "diag_of_heart_disease                   0\n",
       "age_group                               0\n",
       "dtype: int64"
      ]
     },
     "execution_count": 16,
     "metadata": {},
     "output_type": "execute_result"
    }
   ],
   "source": [
    "df_raw.isnull().sum()\n"
   ]
  },
  {
   "cell_type": "code",
   "execution_count": 15,
   "metadata": {},
   "outputs": [
    {
     "data": {
      "text/plain": [
       "<matplotlib.axes._subplots.AxesSubplot at 0x231050ac5e0>"
      ]
     },
     "execution_count": 15,
     "metadata": {},
     "output_type": "execute_result"
    },
    {
     "data": {
      "image/png": "[encoded data removed]",
      "text/plain": [
       "<Figure size 432x288 with 2 Axes>"
      ]
     },
     "metadata": {
      "needs_background": "light"
     },
     "output_type": "display_data"
    }
   ],
   "source": [
    "sns.heatmap(df_raw.isnull(), yticklabels=False, cmap=\"viridis\")"
   ]
  },
  {
   "cell_type": "markdown",
   "metadata": {},
   "source": [
    "### Data Wrangling and Visualization"
   ]
  },
  {
   "cell_type": "markdown",
   "metadata": {},
   "source": [
    "    Creating new column age_group and Assign each row to group"
   ]
  },
  {
   "cell_type": "code",
   "execution_count": 12,
   "metadata": {},
   "outputs": [
    {
     "data": {
      "text/html": [
       "<div>\n",
       "<style scoped>\n",
       "    .dataframe tbody tr th:only-of-type {\n",
       "        vertical-align: middle;\n",
       "    }\n",
       "\n",
       "    .dataframe tbody tr th {\n",
       "        vertical-align: top;\n",
       "    }\n",
       "\n",
       "    .dataframe thead th {\n",
       "        text-align: right;\n",
       "    }\n",
       "</style>\n",
       "<table border=\"1\" class=\"dataframe\">\n",
       "  <thead>\n",
       "    <tr style=\"text-align: right;\">\n",
       "      <th></th>\n",
       "      <th>age</th>\n",
       "      <th>sex</th>\n",
       "      <th>chest_pain_type</th>\n",
       "      <th>resting_blood_pressure</th>\n",
       "      <th>serum_cholestoral</th>\n",
       "      <th>fasting_blood_sugar</th>\n",
       "      <th>resting_electrocardiographic_results</th>\n",
       "      <th>maximum_heart_rate</th>\n",
       "      <th>exercise_induced_angina</th>\n",
       "      <th>oldpeak</th>\n",
       "      <th>slope</th>\n",
       "      <th>num_of_major_vessels</th>\n",
       "      <th>thal</th>\n",
       "      <th>diag_of_heart_disease</th>\n",
       "    </tr>\n",
       "  </thead>\n",
       "  <tbody>\n",
       "    <tr>\n",
       "      <th>0</th>\n",
       "      <td>63</td>\n",
       "      <td>1</td>\n",
       "      <td>1</td>\n",
       "      <td>145</td>\n",
       "      <td>233</td>\n",
       "      <td>1</td>\n",
       "      <td>2</td>\n",
       "      <td>150</td>\n",
       "      <td>0</td>\n",
       "      <td>2.3</td>\n",
       "      <td>3</td>\n",
       "      <td>0</td>\n",
       "      <td>6</td>\n",
       "      <td>0</td>\n",
       "    </tr>\n",
       "    <tr>\n",
       "      <th>1</th>\n",
       "      <td>67</td>\n",
       "      <td>1</td>\n",
       "      <td>4</td>\n",
       "      <td>160</td>\n",
       "      <td>286</td>\n",
       "      <td>0</td>\n",
       "      <td>2</td>\n",
       "      <td>108</td>\n",
       "      <td>1</td>\n",
       "      <td>1.5</td>\n",
       "      <td>2</td>\n",
       "      <td>3</td>\n",
       "      <td>3</td>\n",
       "      <td>2</td>\n",
       "    </tr>\n",
       "    <tr>\n",
       "      <th>2</th>\n",
       "      <td>67</td>\n",
       "      <td>1</td>\n",
       "      <td>4</td>\n",
       "      <td>120</td>\n",
       "      <td>229</td>\n",
       "      <td>0</td>\n",
       "      <td>2</td>\n",
       "      <td>129</td>\n",
       "      <td>1</td>\n",
       "      <td>2.6</td>\n",
       "      <td>2</td>\n",
       "      <td>2</td>\n",
       "      <td>7</td>\n",
       "      <td>1</td>\n",
       "    </tr>\n",
       "    <tr>\n",
       "      <th>3</th>\n",
       "      <td>37</td>\n",
       "      <td>1</td>\n",
       "      <td>3</td>\n",
       "      <td>130</td>\n",
       "      <td>250</td>\n",
       "      <td>0</td>\n",
       "      <td>0</td>\n",
       "      <td>187</td>\n",
       "      <td>0</td>\n",
       "      <td>3.5</td>\n",
       "      <td>3</td>\n",
       "      <td>0</td>\n",
       "      <td>3</td>\n",
       "      <td>0</td>\n",
       "    </tr>\n",
       "    <tr>\n",
       "      <th>4</th>\n",
       "      <td>41</td>\n",
       "      <td>0</td>\n",
       "      <td>2</td>\n",
       "      <td>130</td>\n",
       "      <td>204</td>\n",
       "      <td>0</td>\n",
       "      <td>2</td>\n",
       "      <td>172</td>\n",
       "      <td>0</td>\n",
       "      <td>1.4</td>\n",
       "      <td>1</td>\n",
       "      <td>0</td>\n",
       "      <td>3</td>\n",
       "      <td>0</td>\n",
       "    </tr>\n",
       "  </tbody>\n",
       "</table>\n",
       "</div>"
      ],
      "text/plain": [
       "   age  sex  chest_pain_type  resting_blood_pressure  serum_cholestoral  \\\n",
       "0   63    1                1                     145                233   \n",
       "1   67    1                4                     160                286   \n",
       "2   67    1                4                     120                229   \n",
       "3   37    1                3                     130                250   \n",
       "4   41    0                2                     130                204   \n",
       "\n",
       "   fasting_blood_sugar  resting_electrocardiographic_results  \\\n",
       "0                    1                                     2   \n",
       "1                    0                                     2   \n",
       "2                    0                                     2   \n",
       "3                    0                                     0   \n",
       "4                    0                                     2   \n",
       "\n",
       "   maximum_heart_rate  exercise_induced_angina  oldpeak  slope  \\\n",
       "0                 150                        0      2.3      3   \n",
       "1                 108                        1      1.5      2   \n",
       "2                 129                        1      2.6      2   \n",
       "3                 187                        0      3.5      3   \n",
       "4                 172                        0      1.4      1   \n",
       "\n",
       "  num_of_major_vessels thal  diag_of_heart_disease  \n",
       "0                    0    6                      0  \n",
       "1                    3    3                      2  \n",
       "2                    2    7                      1  \n",
       "3                    0    3                      0  \n",
       "4                    0    3                      0  "
      ]
     },
     "execution_count": 12,
     "metadata": {},
     "output_type": "execute_result"
    },
    {
     "data": {
      "text/html": [
       "<div>\n",
       "<style scoped>\n",
       "    .dataframe tbody tr th:only-of-type {\n",
       "        vertical-align: middle;\n",
       "    }\n",
       "\n",
       "    .dataframe tbody tr th {\n",
       "        vertical-align: top;\n",
       "    }\n",
       "\n",
       "    .dataframe thead th {\n",
       "        text-align: right;\n",
       "    }\n",
       "</style>\n",
       "<table border=\"1\" class=\"dataframe\">\n",
       "  <thead>\n",
       "    <tr style=\"text-align: right;\">\n",
       "      <th></th>\n",
       "      <th>age</th>\n",
       "      <th>sex</th>\n",
       "      <th>chest_pain_type</th>\n",
       "      <th>resting_blood_pressure</th>\n",
       "      <th>serum_cholestoral</th>\n",
       "      <th>fasting_blood_sugar</th>\n",
       "      <th>resting_electrocardiographic_results</th>\n",
       "      <th>maximum_heart_rate</th>\n",
       "      <th>exercise_induced_angina</th>\n",
       "      <th>oldpeak</th>\n",
       "      <th>slope</th>\n",
       "      <th>num_of_major_vessels</th>\n",
       "      <th>thal</th>\n",
       "      <th>diag_of_heart_disease</th>\n",
       "      <th>age_group</th>\n",
       "    </tr>\n",
       "  </thead>\n",
       "  <tbody>\n",
       "    <tr>\n",
       "      <th>0</th>\n",
       "      <td>63</td>\n",
       "      <td>1</td>\n",
       "      <td>1</td>\n",
       "      <td>145</td>\n",
       "      <td>233</td>\n",
       "      <td>1</td>\n",
       "      <td>2</td>\n",
       "      <td>150</td>\n",
       "      <td>0</td>\n",
       "      <td>2.3</td>\n",
       "      <td>3</td>\n",
       "      <td>0</td>\n",
       "      <td>6</td>\n",
       "      <td>0</td>\n",
       "      <td>60-69</td>\n",
       "    </tr>\n",
       "    <tr>\n",
       "      <th>1</th>\n",
       "      <td>67</td>\n",
       "      <td>1</td>\n",
       "      <td>4</td>\n",
       "      <td>160</td>\n",
       "      <td>286</td>\n",
       "      <td>0</td>\n",
       "      <td>2</td>\n",
       "      <td>108</td>\n",
       "      <td>1</td>\n",
       "      <td>1.5</td>\n",
       "      <td>2</td>\n",
       "      <td>3</td>\n",
       "      <td>3</td>\n",
       "      <td>2</td>\n",
       "      <td>60-69</td>\n",
       "    </tr>\n",
       "    <tr>\n",
       "      <th>2</th>\n",
       "      <td>67</td>\n",
       "      <td>1</td>\n",
       "      <td>4</td>\n",
       "      <td>120</td>\n",
       "      <td>229</td>\n",
       "      <td>0</td>\n",
       "      <td>2</td>\n",
       "      <td>129</td>\n",
       "      <td>1</td>\n",
       "      <td>2.6</td>\n",
       "      <td>2</td>\n",
       "      <td>2</td>\n",
       "      <td>7</td>\n",
       "      <td>1</td>\n",
       "      <td>60-69</td>\n",
       "    </tr>\n",
       "    <tr>\n",
       "      <th>3</th>\n",
       "      <td>37</td>\n",
       "      <td>1</td>\n",
       "      <td>3</td>\n",
       "      <td>130</td>\n",
       "      <td>250</td>\n",
       "      <td>0</td>\n",
       "      <td>0</td>\n",
       "      <td>187</td>\n",
       "      <td>0</td>\n",
       "      <td>3.5</td>\n",
       "      <td>3</td>\n",
       "      <td>0</td>\n",
       "      <td>3</td>\n",
       "      <td>0</td>\n",
       "      <td>30-39</td>\n",
       "    </tr>\n",
       "    <tr>\n",
       "      <th>4</th>\n",
       "      <td>41</td>\n",
       "      <td>0</td>\n",
       "      <td>2</td>\n",
       "      <td>130</td>\n",
       "      <td>204</td>\n",
       "      <td>0</td>\n",
       "      <td>2</td>\n",
       "      <td>172</td>\n",
       "      <td>0</td>\n",
       "      <td>1.4</td>\n",
       "      <td>1</td>\n",
       "      <td>0</td>\n",
       "      <td>3</td>\n",
       "      <td>0</td>\n",
       "      <td>40-49</td>\n",
       "    </tr>\n",
       "  </tbody>\n",
       "</table>\n",
       "</div>"
      ],
      "text/plain": [
       "   age  sex  chest_pain_type  resting_blood_pressure  serum_cholestoral  \\\n",
       "0   63    1                1                     145                233   \n",
       "1   67    1                4                     160                286   \n",
       "2   67    1                4                     120                229   \n",
       "3   37    1                3                     130                250   \n",
       "4   41    0                2                     130                204   \n",
       "\n",
       "   fasting_blood_sugar  resting_electrocardiographic_results  \\\n",
       "0                    1                                     2   \n",
       "1                    0                                     2   \n",
       "2                    0                                     2   \n",
       "3                    0                                     0   \n",
       "4                    0                                     2   \n",
       "\n",
       "   maximum_heart_rate  exercise_induced_angina  oldpeak  slope  \\\n",
       "0                 150                        0      2.3      3   \n",
       "1                 108                        1      1.5      2   \n",
       "2                 129                        1      2.6      2   \n",
       "3                 187                        0      3.5      3   \n",
       "4                 172                        0      1.4      1   \n",
       "\n",
       "  num_of_major_vessels thal  diag_of_heart_disease age_group  \n",
       "0                    0    6                      0     60-69  \n",
       "1                    3    3                      2     60-69  \n",
       "2                    2    7                      1     60-69  \n",
       "3                    0    3                      0     30-39  \n",
       "4                    0    3                      0     40-49  "
      ]
     },
     "execution_count": 12,
     "metadata": {},
     "output_type": "execute_result"
    }
   ],
   "source": [
    "df_raw.head() #before\n",
    "bins= [-10,19,29,39,49,59,69,79,89,99]\n",
    "labels = ['10-19','20-29','30-39','40-49','50-59','60-69','70-79','80-89','90-99']\n",
    "df_raw['age_group'] = pd.cut(df_raw['age'], bins=bins, labels=labels, include_lowest=True)\n",
    "df_raw.head() #after"
   ]
  },
  {
   "cell_type": "markdown",
   "metadata": {},
   "source": [
    "    Creating a new dataframe table_hd to use to create a visuals"
   ]
  },
  {
   "cell_type": "code",
   "execution_count": 13,
   "metadata": {},
   "outputs": [],
   "source": [
    "df_cp = df_raw.groupby(['age_group','sex'], as_index=False)['chest_pain_type'].median().rename(columns={'chest_pain_type':'Chest Pain Type'})\n",
    "\n",
    "df_rb = df_raw.groupby(['age_group','sex'], as_index=False)['resting_blood_pressure'].mean().rename(columns={'resting_blood_pressure':'Resting Blood Pressure'})\n",
    "\n",
    "df_sc = df_raw.groupby(['age_group','sex'], as_index=False)['serum_cholestoral'].mean().rename(columns={'serum_cholestoral':'Serum Cholestoral'})\n",
    "\n",
    "df_mh = df_raw.groupby(['age_group','sex'], as_index=False)['maximum_heart_rate'].mean().rename(columns={'maximum_heart_rate':'Maximum Heart Rate'})\n",
    "\n",
    "table_hd = pd.merge(df_cp, df_rb, how='left', on=['age_group','sex'])\n",
    "#table_hd = table_hd.set_index('year')\n",
    "table_hd = pd.merge(table_hd, df_sc, how='left', on=['age_group','sex'])\n",
    "#table_hd = table_hd.set_index('year')\n",
    "table_hd = pd.merge(table_hd, df_mh, how='left',  on=['age_group','sex'])\n",
    "#table_hd = table_hd.set_index('year')\n",
    "\n"
   ]
  },
  {
   "cell_type": "markdown",
   "metadata": {},
   "source": [
    "    Using dataframe table_hd to create a visualization of the comparaison of Chest Pain Type, Resting Blood Pressure, Serum Cholestoral, Maximum Heart Rate by age group and sex"
   ]
  },
  {
   "cell_type": "code",
   "execution_count": 14,
   "metadata": {},
   "outputs": [
    {
     "data": {
      "text/html": [
       "<div>\n",
       "<style scoped>\n",
       "    .dataframe tbody tr th:only-of-type {\n",
       "        vertical-align: middle;\n",
       "    }\n",
       "\n",
       "    .dataframe tbody tr th {\n",
       "        vertical-align: top;\n",
       "    }\n",
       "\n",
       "    .dataframe thead th {\n",
       "        text-align: right;\n",
       "    }\n",
       "</style>\n",
       "<table border=\"1\" class=\"dataframe\">\n",
       "  <thead>\n",
       "    <tr style=\"text-align: right;\">\n",
       "      <th></th>\n",
       "      <th>age_group</th>\n",
       "      <th>sex</th>\n",
       "      <th>Chest Pain Type</th>\n",
       "      <th>Resting Blood Pressure</th>\n",
       "      <th>Serum Cholestoral</th>\n",
       "      <th>Maximum Heart Rate</th>\n",
       "    </tr>\n",
       "  </thead>\n",
       "  <tbody>\n",
       "    <tr>\n",
       "      <th>0</th>\n",
       "      <td>10-19</td>\n",
       "      <td>0</td>\n",
       "      <td>NaN</td>\n",
       "      <td>NaN</td>\n",
       "      <td>NaN</td>\n",
       "      <td>NaN</td>\n",
       "    </tr>\n",
       "    <tr>\n",
       "      <th>1</th>\n",
       "      <td>10-19</td>\n",
       "      <td>1</td>\n",
       "      <td>NaN</td>\n",
       "      <td>NaN</td>\n",
       "      <td>NaN</td>\n",
       "      <td>NaN</td>\n",
       "    </tr>\n",
       "    <tr>\n",
       "      <th>2</th>\n",
       "      <td>20-29</td>\n",
       "      <td>0</td>\n",
       "      <td>NaN</td>\n",
       "      <td>NaN</td>\n",
       "      <td>NaN</td>\n",
       "      <td>NaN</td>\n",
       "    </tr>\n",
       "    <tr>\n",
       "      <th>3</th>\n",
       "      <td>20-29</td>\n",
       "      <td>1</td>\n",
       "      <td>2.0</td>\n",
       "      <td>130.000000</td>\n",
       "      <td>204.000000</td>\n",
       "      <td>202.000000</td>\n",
       "    </tr>\n",
       "    <tr>\n",
       "      <th>4</th>\n",
       "      <td>30-39</td>\n",
       "      <td>0</td>\n",
       "      <td>3.0</td>\n",
       "      <td>121.600000</td>\n",
       "      <td>205.400000</td>\n",
       "      <td>175.000000</td>\n",
       "    </tr>\n",
       "    <tr>\n",
       "      <th>5</th>\n",
       "      <td>30-39</td>\n",
       "      <td>1</td>\n",
       "      <td>3.0</td>\n",
       "      <td>125.777778</td>\n",
       "      <td>227.777778</td>\n",
       "      <td>166.444444</td>\n",
       "    </tr>\n",
       "    <tr>\n",
       "      <th>6</th>\n",
       "      <td>40-49</td>\n",
       "      <td>0</td>\n",
       "      <td>3.0</td>\n",
       "      <td>122.842105</td>\n",
       "      <td>234.526316</td>\n",
       "      <td>158.315789</td>\n",
       "    </tr>\n",
       "    <tr>\n",
       "      <th>7</th>\n",
       "      <td>40-49</td>\n",
       "      <td>1</td>\n",
       "      <td>3.0</td>\n",
       "      <td>124.301887</td>\n",
       "      <td>236.320755</td>\n",
       "      <td>159.641509</td>\n",
       "    </tr>\n",
       "    <tr>\n",
       "      <th>8</th>\n",
       "      <td>50-59</td>\n",
       "      <td>0</td>\n",
       "      <td>3.0</td>\n",
       "      <td>135.117647</td>\n",
       "      <td>269.852941</td>\n",
       "      <td>150.882353</td>\n",
       "    </tr>\n",
       "    <tr>\n",
       "      <th>9</th>\n",
       "      <td>50-59</td>\n",
       "      <td>1</td>\n",
       "      <td>4.0</td>\n",
       "      <td>132.857143</td>\n",
       "      <td>239.043956</td>\n",
       "      <td>146.956044</td>\n",
       "    </tr>\n",
       "    <tr>\n",
       "      <th>10</th>\n",
       "      <td>60-69</td>\n",
       "      <td>0</td>\n",
       "      <td>4.0</td>\n",
       "      <td>139.882353</td>\n",
       "      <td>280.882353</td>\n",
       "      <td>147.117647</td>\n",
       "    </tr>\n",
       "    <tr>\n",
       "      <th>11</th>\n",
       "      <td>60-69</td>\n",
       "      <td>1</td>\n",
       "      <td>4.0</td>\n",
       "      <td>134.297872</td>\n",
       "      <td>244.936170</td>\n",
       "      <td>137.808511</td>\n",
       "    </tr>\n",
       "    <tr>\n",
       "      <th>12</th>\n",
       "      <td>70-79</td>\n",
       "      <td>0</td>\n",
       "      <td>3.0</td>\n",
       "      <td>128.400000</td>\n",
       "      <td>236.400000</td>\n",
       "      <td>130.800000</td>\n",
       "    </tr>\n",
       "    <tr>\n",
       "      <th>13</th>\n",
       "      <td>70-79</td>\n",
       "      <td>1</td>\n",
       "      <td>4.0</td>\n",
       "      <td>143.200000</td>\n",
       "      <td>262.800000</td>\n",
       "      <td>130.200000</td>\n",
       "    </tr>\n",
       "    <tr>\n",
       "      <th>14</th>\n",
       "      <td>80-89</td>\n",
       "      <td>0</td>\n",
       "      <td>NaN</td>\n",
       "      <td>NaN</td>\n",
       "      <td>NaN</td>\n",
       "      <td>NaN</td>\n",
       "    </tr>\n",
       "    <tr>\n",
       "      <th>15</th>\n",
       "      <td>80-89</td>\n",
       "      <td>1</td>\n",
       "      <td>NaN</td>\n",
       "      <td>NaN</td>\n",
       "      <td>NaN</td>\n",
       "      <td>NaN</td>\n",
       "    </tr>\n",
       "    <tr>\n",
       "      <th>16</th>\n",
       "      <td>90-99</td>\n",
       "      <td>0</td>\n",
       "      <td>NaN</td>\n",
       "      <td>NaN</td>\n",
       "      <td>NaN</td>\n",
       "      <td>NaN</td>\n",
       "    </tr>\n",
       "    <tr>\n",
       "      <th>17</th>\n",
       "      <td>90-99</td>\n",
       "      <td>1</td>\n",
       "      <td>NaN</td>\n",
       "      <td>NaN</td>\n",
       "      <td>NaN</td>\n",
       "      <td>NaN</td>\n",
       "    </tr>\n",
       "  </tbody>\n",
       "</table>\n",
       "</div>"
      ],
      "text/plain": [
       "   age_group  sex  Chest Pain Type  Resting Blood Pressure  Serum Cholestoral  \\\n",
       "0      10-19    0              NaN                     NaN                NaN   \n",
       "1      10-19    1              NaN                     NaN                NaN   \n",
       "2      20-29    0              NaN                     NaN                NaN   \n",
       "3      20-29    1              2.0              130.000000         204.000000   \n",
       "4      30-39    0              3.0              121.600000         205.400000   \n",
       "5      30-39    1              3.0              125.777778         227.777778   \n",
       "6      40-49    0              3.0              122.842105         234.526316   \n",
       "7      40-49    1              3.0              124.301887         236.320755   \n",
       "8      50-59    0              3.0              135.117647         269.852941   \n",
       "9      50-59    1              4.0              132.857143         239.043956   \n",
       "10     60-69    0              4.0              139.882353         280.882353   \n",
       "11     60-69    1              4.0              134.297872         244.936170   \n",
       "12     70-79    0              3.0              128.400000         236.400000   \n",
       "13     70-79    1              4.0              143.200000         262.800000   \n",
       "14     80-89    0              NaN                     NaN                NaN   \n",
       "15     80-89    1              NaN                     NaN                NaN   \n",
       "16     90-99    0              NaN                     NaN                NaN   \n",
       "17     90-99    1              NaN                     NaN                NaN   \n",
       "\n",
       "    Maximum Heart Rate  \n",
       "0                  NaN  \n",
       "1                  NaN  \n",
       "2                  NaN  \n",
       "3           202.000000  \n",
       "4           175.000000  \n",
       "5           166.444444  \n",
       "6           158.315789  \n",
       "7           159.641509  \n",
       "8           150.882353  \n",
       "9           146.956044  \n",
       "10          147.117647  \n",
       "11          137.808511  \n",
       "12          130.800000  \n",
       "13          130.200000  \n",
       "14                 NaN  \n",
       "15                 NaN  \n",
       "16                 NaN  \n",
       "17                 NaN  "
      ]
     },
     "execution_count": 14,
     "metadata": {},
     "output_type": "execute_result"
    },
    {
     "data": {
      "text/plain": [
       "Text(0.5, 1.0, 'Chest Pain Type (Median)')"
      ]
     },
     "execution_count": 14,
     "metadata": {},
     "output_type": "execute_result"
    },
    {
     "data": {
      "text/plain": [
       "Text(0.5, 1.0, 'Resting Blood Pressure (Avg)')"
      ]
     },
     "execution_count": 14,
     "metadata": {},
     "output_type": "execute_result"
    },
    {
     "data": {
      "text/plain": [
       "Text(0.5, 1.0, 'Serum Cholestoral (Avg)')"
      ]
     },
     "execution_count": 14,
     "metadata": {},
     "output_type": "execute_result"
    },
    {
     "data": {
      "text/plain": [
       "Text(0.5, 1.0, 'Maximum Heart Rate (Avg)')"
      ]
     },
     "execution_count": 14,
     "metadata": {},
     "output_type": "execute_result"
    },
    {
     "data": {
      "image/png": "[encoded data removed]",
      "text/plain": [
       "<Figure size 1440x720 with 4 Axes>"
      ]
     },
     "metadata": {
      "needs_background": "light"
     },
     "output_type": "display_data"
    }
   ],
   "source": [
    "table_hd\n",
    "\n",
    "fig, axes = plt.subplots(nrows = 2, ncols=2, figsize=(20,10))\n",
    "sns.barplot(x=\"sex\",  y=\"Chest Pain Type\", hue=\"age_group\",  data=table_hd, ax=axes[0,0]).set_title(\"Chest Pain Type (Median)\")\n",
    "sns.barplot(x=\"sex\",  y=\"Resting Blood Pressure\", hue=\"age_group\",  data=table_hd, ax=axes[1,0]).set_title(\"Resting Blood Pressure (Avg)\")\n",
    "sns.barplot(x=\"sex\",  y=\"Serum Cholestoral\", hue=\"age_group\",  data=table_hd, ax=axes[0,1]).set_title(\"Serum Cholestoral (Avg)\")\n",
    "sns.barplot(x=\"sex\",  y=\"Maximum Heart Rate\", hue=\"age_group\",  data=table_hd, ax=axes[1,1]).set_title(\"Maximum Heart Rate (Avg)\")\n",
    "sns.set_context(\"notebook\", font_scale=1.0, rc={\"lines.linewidth\":2.5})\n",
    "plt.show()"
   ]
  }
 ],
 "metadata": {
  "kernelspec": {
   "display_name": "Python 3",
   "language": "python",
   "name": "python3"
  },
  "language_info": {
   "codemirror_mode": {
    "name": "ipython",
    "version": 3
   },
   "file_extension": ".py",
   "mimetype": "text/x-python",
   "name": "python",
   "nbconvert_exporter": "python",
   "pygments_lexer": "ipython3",
   "version": "3.8.3"
  }
 },
 "nbformat": 4,
 "nbformat_minor": 4
}
