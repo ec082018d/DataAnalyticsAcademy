{
 "cells": [
  {
   "cell_type": "markdown",
   "metadata": {},
   "source": [
    "#### U3 L5 Project1: \n",
    "###### The purpose of this project is to compare regents exam scores between Townsend Harris High School and schools in all boroughs.\n",
    "###### Townsend Harris High School students outperformed all schools in all boroughs."
   ]
  },
  {
   "cell_type": "code",
   "execution_count": 1,
   "metadata": {},
   "outputs": [
    {
     "data": {
      "text/html": [
       "<style>.container { width:100% !important; }</style>"
      ],
      "text/plain": [
       "<IPython.core.display.HTML object>"
      ]
     },
     "metadata": {},
     "output_type": "display_data"
    }
   ],
   "source": [
    "import matplotlib\n",
    "import matplotlib.pyplot as plt\n",
    "import panda as pd\n",
    "import numpy as np\n",
    "import seaborn as sns\n",
    "from IPython.core.display import display, HTML\n",
    "from IPython.core.interactiveshell import InteractiveShell\n",
    "\n",
    "InteractiveShell.ast_node_interactivity = \"all\"\n",
    "display(HTML(\"<style>.container { width:100% !important; }</style>\"))\n",
    "\n",
    "\n",
    "%matplotlib inline"
   ]
  },
  {
   "cell_type": "markdown",
   "metadata": {},
   "source": [
    "#### Load Data"
   ]
  },
  {
   "cell_type": "code",
   "execution_count": 2,
   "metadata": {},
   "outputs": [],
   "source": [
    "#load data\n",
    "df_raw = pd.read_csv(\"flatfiles/2014-15_To_2016-17_School-_Level_NYC_Regents_Report_For_All_Variables.csv\", low_memory=False)\n",
    "df_demo_raw = pd.read_csv(\"flatfiles/2017_DOE_High_School_Directory.csv\", low_memory=False)"
   ]
  },
  {
   "cell_type": "markdown",
   "metadata": {},
   "source": [
    "#### Clean Columns"
   ]
  },
  {
   "cell_type": "code",
   "execution_count": 33,
   "metadata": {},
   "outputs": [
    {
     "data": {
      "text/plain": [
       "Index(['school_dbn', 'school_name', 'school_level', 'regents_exam', 'year',\n",
       "       'total_tested', 'mean_score', 'number_scoring_below_65',\n",
       "       'percent_scoring_below_65', 'number_scoring_65_or_above',\n",
       "       'percent_scoring_65_or_above', 'number_scoring_80_or_above',\n",
       "       'percent_scoring_80_or_above', 'number_scoring_cr',\n",
       "       'percent_scoring_cr'],\n",
       "      dtype='object')"
      ]
     },
     "execution_count": 33,
     "metadata": {},
     "output_type": "execute_result"
    },
    {
     "data": {
      "text/plain": [
       "Index(['dbn', 'school_name', 'boro', 'overview_paragraph', 'school_10th_seats',\n",
       "       'academicopportunities1', 'academicopportunities2',\n",
       "       'academicopportunities3', 'academicopportunities4',\n",
       "       'academicopportunities5',\n",
       "       ...\n",
       "       'state_code', 'latitude', 'longitude', 'community_board',\n",
       "       'council_district', 'census_tract', 'bin', 'bbl', 'nta', 'borough'],\n",
       "      dtype='object', length=462)"
      ]
     },
     "execution_count": 33,
     "metadata": {},
     "output_type": "execute_result"
    },
    {
     "data": {
      "text/plain": [
       "school_dbn                      0\n",
       "school_name                     0\n",
       "school_level                    0\n",
       "regents_exam                   10\n",
       "year                            0\n",
       "total_tested                    0\n",
       "mean_score                      0\n",
       "number_scoring_below_65         0\n",
       "percent_scoring_below_65        0\n",
       "number_scoring_65_or_above      0\n",
       "percent_scoring_65_or_above     0\n",
       "number_scoring_80_or_above      0\n",
       "percent_scoring_80_or_above     0\n",
       "number_scoring_cr               0\n",
       "percent_scoring_cr              0\n",
       "dtype: int64"
      ]
     },
     "execution_count": 33,
     "metadata": {},
     "output_type": "execute_result"
    },
    {
     "data": {
      "text/plain": [
       "<matplotlib.axes._subplots.AxesSubplot at 0x215118cec10>"
      ]
     },
     "execution_count": 33,
     "metadata": {},
     "output_type": "execute_result"
    },
    {
     "data": {
      "image/png": "[encoded data removed]",
      "text/plain": [
       "<Figure size 432x288 with 2 Axes>"
      ]
     },
     "metadata": {
      "needs_background": "light"
     },
     "output_type": "display_data"
    }
   ],
   "source": [
    "df_raw.columns = df_raw.columns.str.strip().str.lower().str.replace(' ','_').str.replace('/','_').str.replace('%','pct')\n",
    "df_demo_raw.columns = df_demo_raw.columns.str.strip().str.lower().str.replace(' ','_').str.replace('/','_').str.replace('%','pct')\n",
    "\n",
    "df_raw.columns\n",
    "df_demo_raw.columns\n",
    "\n",
    "df_raw.isnull().sum()\n",
    "sns.heatmap(df_raw.isnull(), yticklabels=False, cmap=\"viridis\")"
   ]
  },
  {
   "cell_type": "code",
   "execution_count": null,
   "metadata": {},
   "outputs": [],
   "source": [
    "def remove_whitespace(x):\n",
    "    \"\"\"\n",
    "    Helper function to remove any blank space from a string\n",
    "    x: a string\n",
    "    \"\"\"\n",
    "    try:\n",
    "        # Remove spaces inside of the string\n",
    "        x = \"\".join(x.split())\n",
    "\n",
    "    except:\n",
    "        pass\n",
    "    return x\n",
    "\n",
    "df_demo_raw.borough = df_demo_raw.borough.apply(remove_whitespace)"
   ]
  },
  {
   "cell_type": "markdown",
   "metadata": {},
   "source": [
    "#### Data Exploration and Wrangling"
   ]
  },
  {
   "cell_type": "code",
   "execution_count": 44,
   "metadata": {},
   "outputs": [
    {
     "name": "stdout",
     "output_type": "stream",
     "text": [
      "school_dbn                      object\n",
      "school_name                     object\n",
      "school_level                    object\n",
      "regents_exam                    object\n",
      "year                             int64\n",
      "total_tested                     int64\n",
      "mean_score                     float64\n",
      "number_scoring_below_65          int64\n",
      "percent_scoring_below_65       float64\n",
      "number_scoring_65_or_above       int64\n",
      "percent_scoring_65_or_above    float64\n",
      "number_scoring_80_or_above       int64\n",
      "percent_scoring_80_or_above    float64\n",
      "number_scoring_cr               object\n",
      "percent_scoring_cr              object\n",
      "dtype: object\n"
     ]
    },
    {
     "data": {
      "text/html": [
       "<div>\n",
       "<style scoped>\n",
       "    .dataframe tbody tr th:only-of-type {\n",
       "        vertical-align: middle;\n",
       "    }\n",
       "\n",
       "    .dataframe tbody tr th {\n",
       "        vertical-align: top;\n",
       "    }\n",
       "\n",
       "    .dataframe thead th {\n",
       "        text-align: right;\n",
       "    }\n",
       "</style>\n",
       "<table border=\"1\" class=\"dataframe\">\n",
       "  <thead>\n",
       "    <tr style=\"text-align: right;\">\n",
       "      <th></th>\n",
       "      <th>year</th>\n",
       "      <th>total_tested</th>\n",
       "      <th>mean_score</th>\n",
       "      <th>number_scoring_below_65</th>\n",
       "      <th>percent_scoring_below_65</th>\n",
       "      <th>number_scoring_65_or_above</th>\n",
       "      <th>percent_scoring_65_or_above</th>\n",
       "      <th>number_scoring_80_or_above</th>\n",
       "      <th>percent_scoring_80_or_above</th>\n",
       "    </tr>\n",
       "  </thead>\n",
       "  <tbody>\n",
       "    <tr>\n",
       "      <th>count</th>\n",
       "      <td>136802.000000</td>\n",
       "      <td>136802.000000</td>\n",
       "      <td>136802.000000</td>\n",
       "      <td>136802.000000</td>\n",
       "      <td>136802.000000</td>\n",
       "      <td>136802.000000</td>\n",
       "      <td>136802.000000</td>\n",
       "      <td>136802.000000</td>\n",
       "      <td>136802.000000</td>\n",
       "    </tr>\n",
       "    <tr>\n",
       "      <th>mean</th>\n",
       "      <td>2015.957464</td>\n",
       "      <td>71.509532</td>\n",
       "      <td>65.945786</td>\n",
       "      <td>25.194888</td>\n",
       "      <td>42.024151</td>\n",
       "      <td>46.314645</td>\n",
       "      <td>57.977339</td>\n",
       "      <td>20.339213</td>\n",
       "      <td>22.546026</td>\n",
       "    </tr>\n",
       "    <tr>\n",
       "      <th>std</th>\n",
       "      <td>0.809261</td>\n",
       "      <td>107.849529</td>\n",
       "      <td>11.242486</td>\n",
       "      <td>37.178885</td>\n",
       "      <td>28.372407</td>\n",
       "      <td>85.121164</td>\n",
       "      <td>28.372191</td>\n",
       "      <td>56.099384</td>\n",
       "      <td>25.995346</td>\n",
       "    </tr>\n",
       "    <tr>\n",
       "      <th>min</th>\n",
       "      <td>2015.000000</td>\n",
       "      <td>6.000000</td>\n",
       "      <td>15.000000</td>\n",
       "      <td>0.000000</td>\n",
       "      <td>0.000000</td>\n",
       "      <td>0.000000</td>\n",
       "      <td>0.000000</td>\n",
       "      <td>0.000000</td>\n",
       "      <td>0.000000</td>\n",
       "    </tr>\n",
       "    <tr>\n",
       "      <th>25%</th>\n",
       "      <td>2015.000000</td>\n",
       "      <td>18.000000</td>\n",
       "      <td>58.300000</td>\n",
       "      <td>5.000000</td>\n",
       "      <td>17.600000</td>\n",
       "      <td>8.000000</td>\n",
       "      <td>35.900000</td>\n",
       "      <td>1.000000</td>\n",
       "      <td>2.200000</td>\n",
       "    </tr>\n",
       "    <tr>\n",
       "      <th>50%</th>\n",
       "      <td>2016.000000</td>\n",
       "      <td>39.000000</td>\n",
       "      <td>65.400000</td>\n",
       "      <td>13.000000</td>\n",
       "      <td>40.400000</td>\n",
       "      <td>21.000000</td>\n",
       "      <td>59.600000</td>\n",
       "      <td>5.000000</td>\n",
       "      <td>12.500000</td>\n",
       "    </tr>\n",
       "    <tr>\n",
       "      <th>75%</th>\n",
       "      <td>2017.000000</td>\n",
       "      <td>82.000000</td>\n",
       "      <td>73.400000</td>\n",
       "      <td>31.000000</td>\n",
       "      <td>64.100000</td>\n",
       "      <td>52.000000</td>\n",
       "      <td>82.400000</td>\n",
       "      <td>18.000000</td>\n",
       "      <td>34.200000</td>\n",
       "    </tr>\n",
       "    <tr>\n",
       "      <th>max</th>\n",
       "      <td>2017.000000</td>\n",
       "      <td>1729.000000</td>\n",
       "      <td>98.700000</td>\n",
       "      <td>697.000000</td>\n",
       "      <td>100.000000</td>\n",
       "      <td>1607.000000</td>\n",
       "      <td>100.000000</td>\n",
       "      <td>1365.000000</td>\n",
       "      <td>100.000000</td>\n",
       "    </tr>\n",
       "  </tbody>\n",
       "</table>\n",
       "</div>"
      ],
      "text/plain": [
       "                year   total_tested     mean_score  number_scoring_below_65  \\\n",
       "count  136802.000000  136802.000000  136802.000000            136802.000000   \n",
       "mean     2015.957464      71.509532      65.945786                25.194888   \n",
       "std         0.809261     107.849529      11.242486                37.178885   \n",
       "min      2015.000000       6.000000      15.000000                 0.000000   \n",
       "25%      2015.000000      18.000000      58.300000                 5.000000   \n",
       "50%      2016.000000      39.000000      65.400000                13.000000   \n",
       "75%      2017.000000      82.000000      73.400000                31.000000   \n",
       "max      2017.000000    1729.000000      98.700000               697.000000   \n",
       "\n",
       "       percent_scoring_below_65  number_scoring_65_or_above  \\\n",
       "count             136802.000000               136802.000000   \n",
       "mean                  42.024151                   46.314645   \n",
       "std                   28.372407                   85.121164   \n",
       "min                    0.000000                    0.000000   \n",
       "25%                   17.600000                    8.000000   \n",
       "50%                   40.400000                   21.000000   \n",
       "75%                   64.100000                   52.000000   \n",
       "max                  100.000000                 1607.000000   \n",
       "\n",
       "       percent_scoring_65_or_above  number_scoring_80_or_above  \\\n",
       "count                136802.000000               136802.000000   \n",
       "mean                     57.977339                   20.339213   \n",
       "std                      28.372191                   56.099384   \n",
       "min                       0.000000                    0.000000   \n",
       "25%                      35.900000                    1.000000   \n",
       "50%                      59.600000                    5.000000   \n",
       "75%                      82.400000                   18.000000   \n",
       "max                     100.000000                 1365.000000   \n",
       "\n",
       "       percent_scoring_80_or_above  \n",
       "count                136802.000000  \n",
       "mean                     22.546026  \n",
       "std                      25.995346  \n",
       "min                       0.000000  \n",
       "25%                       2.200000  \n",
       "50%                      12.500000  \n",
       "75%                      34.200000  \n",
       "max                     100.000000  "
      ]
     },
     "execution_count": 44,
     "metadata": {},
     "output_type": "execute_result"
    },
    {
     "data": {
      "text/html": [
       "<div>\n",
       "<style scoped>\n",
       "    .dataframe tbody tr th:only-of-type {\n",
       "        vertical-align: middle;\n",
       "    }\n",
       "\n",
       "    .dataframe tbody tr th {\n",
       "        vertical-align: top;\n",
       "    }\n",
       "\n",
       "    .dataframe thead th {\n",
       "        text-align: right;\n",
       "    }\n",
       "</style>\n",
       "<table border=\"1\" class=\"dataframe\">\n",
       "  <thead>\n",
       "    <tr style=\"text-align: right;\">\n",
       "      <th></th>\n",
       "      <th>year</th>\n",
       "      <th>total_tested</th>\n",
       "      <th>mean_score</th>\n",
       "      <th>number_scoring_below_65</th>\n",
       "      <th>percent_scoring_below_65</th>\n",
       "      <th>number_scoring_65_or_above</th>\n",
       "      <th>percent_scoring_65_or_above</th>\n",
       "      <th>number_scoring_80_or_above</th>\n",
       "      <th>percent_scoring_80_or_above</th>\n",
       "    </tr>\n",
       "  </thead>\n",
       "  <tbody>\n",
       "    <tr>\n",
       "      <th>count</th>\n",
       "      <td>307.000000</td>\n",
       "      <td>307.000000</td>\n",
       "      <td>307.000000</td>\n",
       "      <td>307.000000</td>\n",
       "      <td>307.000000</td>\n",
       "      <td>307.000000</td>\n",
       "      <td>307.000000</td>\n",
       "      <td>307.000000</td>\n",
       "      <td>307.000000</td>\n",
       "    </tr>\n",
       "    <tr>\n",
       "      <th>mean</th>\n",
       "      <td>2016.006515</td>\n",
       "      <td>104.684039</td>\n",
       "      <td>89.696743</td>\n",
       "      <td>0.814332</td>\n",
       "      <td>1.597394</td>\n",
       "      <td>103.869707</td>\n",
       "      <td>98.402606</td>\n",
       "      <td>95.120521</td>\n",
       "      <td>87.751140</td>\n",
       "    </tr>\n",
       "    <tr>\n",
       "      <th>std</th>\n",
       "      <td>0.820463</td>\n",
       "      <td>95.410985</td>\n",
       "      <td>5.524324</td>\n",
       "      <td>1.692367</td>\n",
       "      <td>4.422491</td>\n",
       "      <td>94.797458</td>\n",
       "      <td>4.422491</td>\n",
       "      <td>87.991765</td>\n",
       "      <td>17.113539</td>\n",
       "    </tr>\n",
       "    <tr>\n",
       "      <th>min</th>\n",
       "      <td>2015.000000</td>\n",
       "      <td>6.000000</td>\n",
       "      <td>68.000000</td>\n",
       "      <td>0.000000</td>\n",
       "      <td>0.000000</td>\n",
       "      <td>4.000000</td>\n",
       "      <td>57.100000</td>\n",
       "      <td>0.000000</td>\n",
       "      <td>0.000000</td>\n",
       "    </tr>\n",
       "    <tr>\n",
       "      <th>25%</th>\n",
       "      <td>2015.000000</td>\n",
       "      <td>22.000000</td>\n",
       "      <td>87.400000</td>\n",
       "      <td>0.000000</td>\n",
       "      <td>0.000000</td>\n",
       "      <td>22.000000</td>\n",
       "      <td>98.700000</td>\n",
       "      <td>20.000000</td>\n",
       "      <td>84.550000</td>\n",
       "    </tr>\n",
       "    <tr>\n",
       "      <th>50%</th>\n",
       "      <td>2016.000000</td>\n",
       "      <td>66.000000</td>\n",
       "      <td>90.800000</td>\n",
       "      <td>0.000000</td>\n",
       "      <td>0.000000</td>\n",
       "      <td>65.000000</td>\n",
       "      <td>100.000000</td>\n",
       "      <td>57.000000</td>\n",
       "      <td>93.800000</td>\n",
       "    </tr>\n",
       "    <tr>\n",
       "      <th>75%</th>\n",
       "      <td>2017.000000</td>\n",
       "      <td>184.500000</td>\n",
       "      <td>93.900000</td>\n",
       "      <td>1.000000</td>\n",
       "      <td>1.300000</td>\n",
       "      <td>182.500000</td>\n",
       "      <td>100.000000</td>\n",
       "      <td>168.000000</td>\n",
       "      <td>99.400000</td>\n",
       "    </tr>\n",
       "    <tr>\n",
       "      <th>max</th>\n",
       "      <td>2017.000000</td>\n",
       "      <td>315.000000</td>\n",
       "      <td>97.600000</td>\n",
       "      <td>11.000000</td>\n",
       "      <td>42.900000</td>\n",
       "      <td>308.000000</td>\n",
       "      <td>100.000000</td>\n",
       "      <td>285.000000</td>\n",
       "      <td>100.000000</td>\n",
       "    </tr>\n",
       "  </tbody>\n",
       "</table>\n",
       "</div>"
      ],
      "text/plain": [
       "              year  total_tested  mean_score  number_scoring_below_65  \\\n",
       "count   307.000000    307.000000  307.000000               307.000000   \n",
       "mean   2016.006515    104.684039   89.696743                 0.814332   \n",
       "std       0.820463     95.410985    5.524324                 1.692367   \n",
       "min    2015.000000      6.000000   68.000000                 0.000000   \n",
       "25%    2015.000000     22.000000   87.400000                 0.000000   \n",
       "50%    2016.000000     66.000000   90.800000                 0.000000   \n",
       "75%    2017.000000    184.500000   93.900000                 1.000000   \n",
       "max    2017.000000    315.000000   97.600000                11.000000   \n",
       "\n",
       "       percent_scoring_below_65  number_scoring_65_or_above  \\\n",
       "count                307.000000                  307.000000   \n",
       "mean                   1.597394                  103.869707   \n",
       "std                    4.422491                   94.797458   \n",
       "min                    0.000000                    4.000000   \n",
       "25%                    0.000000                   22.000000   \n",
       "50%                    0.000000                   65.000000   \n",
       "75%                    1.300000                  182.500000   \n",
       "max                   42.900000                  308.000000   \n",
       "\n",
       "       percent_scoring_65_or_above  number_scoring_80_or_above  \\\n",
       "count                   307.000000                  307.000000   \n",
       "mean                     98.402606                   95.120521   \n",
       "std                       4.422491                   87.991765   \n",
       "min                      57.100000                    0.000000   \n",
       "25%                      98.700000                   20.000000   \n",
       "50%                     100.000000                   57.000000   \n",
       "75%                     100.000000                  168.000000   \n",
       "max                     100.000000                  285.000000   \n",
       "\n",
       "       percent_scoring_80_or_above  \n",
       "count                   307.000000  \n",
       "mean                     87.751140  \n",
       "std                      17.113539  \n",
       "min                       0.000000  \n",
       "25%                      84.550000  \n",
       "50%                      93.800000  \n",
       "75%                      99.400000  \n",
       "max                     100.000000  "
      ]
     },
     "execution_count": 44,
     "metadata": {},
     "output_type": "execute_result"
    }
   ],
   "source": [
    "#pull the data where all do not have'mean_score' = 's' and 'school_name' = 'Townsend Harris High School'\n",
    "df_set_exempt = df_raw[df_raw['mean_score'] == 's'] # dataset with exams that have s \n",
    "df_set_raw = df_raw[df_raw['mean_score'] != 's']# dataset without exams that have s \n",
    "\n",
    "#converting df_set_raw columns to numeric\n",
    "\n",
    "df_set_raw = df_set_raw.astype({'mean_score': 'float64','number_scoring_below_65': 'int64','percent_scoring_below_65': 'float64','number_scoring_65_or_above': 'int64','percent_scoring_65_or_above': 'float64','number_scoring_80_or_above': 'int64','percent_scoring_80_or_above': 'float64'})\n",
    "\n",
    "df_set1 = df_set_raw[df_set_raw['school_name'] != 'Townsend Harris High School'] # data set with all schools\n",
    "df_set_all = df_set_raw[df_set_raw['school_name'] != 'Townsend Harris High School'] # data set with all schools\n",
    "df_set_th = df_set_raw[df_set_raw['school_name'] == 'Townsend Harris High School'] # 'Townsend Harris High School' data set \n",
    "\n",
    "print(df_set_raw.dtypes)\n",
    "\n",
    "df_set_all.describe()\n",
    "df_set_th.describe()"
   ]
  },
  {
   "cell_type": "code",
   "execution_count": 45,
   "metadata": {},
   "outputs": [],
   "source": [
    "def remove_whitespace(x):\n",
    "    \"\"\"\n",
    "    Helper function to remove any blank space from a string\n",
    "    x: a string\n",
    "    \"\"\"\n",
    "    try:\n",
    "        # Remove spaces inside of the string\n",
    "        x = \"\".join(x.split())\n",
    "\n",
    "    except:\n",
    "        pass\n",
    "    return x\n",
    "\n",
    "df_demo_raw.borough = df_demo_raw.borough.apply(remove_whitespace)"
   ]
  },
  {
   "cell_type": "markdown",
   "metadata": {},
   "source": [
    "#### Data wrangling and  Data Visualization "
   ]
  },
  {
   "cell_type": "code",
   "execution_count": 46,
   "metadata": {},
   "outputs": [
    {
     "name": "stdout",
     "output_type": "stream",
     "text": [
      "Exam Avg Score: All School\n"
     ]
    },
    {
     "data": {
      "text/html": [
       "<div>\n",
       "<style scoped>\n",
       "    .dataframe tbody tr th:only-of-type {\n",
       "        vertical-align: middle;\n",
       "    }\n",
       "\n",
       "    .dataframe tbody tr th {\n",
       "        vertical-align: top;\n",
       "    }\n",
       "\n",
       "    .dataframe thead th {\n",
       "        text-align: right;\n",
       "    }\n",
       "</style>\n",
       "<table border=\"1\" class=\"dataframe\">\n",
       "  <thead>\n",
       "    <tr style=\"text-align: right;\">\n",
       "      <th>year</th>\n",
       "      <th>2015</th>\n",
       "      <th>2016</th>\n",
       "      <th>2017</th>\n",
       "    </tr>\n",
       "    <tr>\n",
       "      <th>regents_exam</th>\n",
       "      <th></th>\n",
       "      <th></th>\n",
       "      <th></th>\n",
       "    </tr>\n",
       "  </thead>\n",
       "  <tbody>\n",
       "    <tr>\n",
       "      <th>Algebra2/Trigonometry</th>\n",
       "      <td>57.165101</td>\n",
       "      <td>56.230590</td>\n",
       "      <td>52.847756</td>\n",
       "    </tr>\n",
       "    <tr>\n",
       "      <th>Common Core Algebra</th>\n",
       "      <td>63.150452</td>\n",
       "      <td>68.653734</td>\n",
       "      <td>69.936625</td>\n",
       "    </tr>\n",
       "    <tr>\n",
       "      <th>Common Core Algebra2</th>\n",
       "      <td>0.000000</td>\n",
       "      <td>62.286681</td>\n",
       "      <td>64.445112</td>\n",
       "    </tr>\n",
       "    <tr>\n",
       "      <th>Common Core English</th>\n",
       "      <td>70.127791</td>\n",
       "      <td>70.985279</td>\n",
       "      <td>69.814025</td>\n",
       "    </tr>\n",
       "    <tr>\n",
       "      <th>Common Core Geometry</th>\n",
       "      <td>58.875746</td>\n",
       "      <td>57.844312</td>\n",
       "      <td>60.217106</td>\n",
       "    </tr>\n",
       "    <tr>\n",
       "      <th>English</th>\n",
       "      <td>68.662884</td>\n",
       "      <td>59.400419</td>\n",
       "      <td>0.000000</td>\n",
       "    </tr>\n",
       "    <tr>\n",
       "      <th>Geometry</th>\n",
       "      <td>63.498792</td>\n",
       "      <td>56.363973</td>\n",
       "      <td>0.000000</td>\n",
       "    </tr>\n",
       "    <tr>\n",
       "      <th>Global History and Geography</th>\n",
       "      <td>64.190004</td>\n",
       "      <td>64.026860</td>\n",
       "      <td>64.103262</td>\n",
       "    </tr>\n",
       "    <tr>\n",
       "      <th>Integrated Algebra</th>\n",
       "      <td>65.057996</td>\n",
       "      <td>64.312368</td>\n",
       "      <td>0.000000</td>\n",
       "    </tr>\n",
       "    <tr>\n",
       "      <th>Living Environment</th>\n",
       "      <td>69.202676</td>\n",
       "      <td>69.515624</td>\n",
       "      <td>68.375500</td>\n",
       "    </tr>\n",
       "    <tr>\n",
       "      <th>Physical Settings/Chemistry</th>\n",
       "      <td>64.029417</td>\n",
       "      <td>64.368441</td>\n",
       "      <td>63.704417</td>\n",
       "    </tr>\n",
       "    <tr>\n",
       "      <th>Physical Settings/Earth Science</th>\n",
       "      <td>64.233453</td>\n",
       "      <td>64.081152</td>\n",
       "      <td>62.363842</td>\n",
       "    </tr>\n",
       "    <tr>\n",
       "      <th>Physical Settings/Physics</th>\n",
       "      <td>66.805046</td>\n",
       "      <td>65.299900</td>\n",
       "      <td>67.030422</td>\n",
       "    </tr>\n",
       "    <tr>\n",
       "      <th>U.S. History and Government</th>\n",
       "      <td>72.032295</td>\n",
       "      <td>70.612956</td>\n",
       "      <td>70.479436</td>\n",
       "    </tr>\n",
       "  </tbody>\n",
       "</table>\n",
       "</div>"
      ],
      "text/plain": [
       "year                                  2015       2016       2017\n",
       "regents_exam                                                    \n",
       "Algebra2/Trigonometry            57.165101  56.230590  52.847756\n",
       "Common Core Algebra              63.150452  68.653734  69.936625\n",
       "Common Core Algebra2              0.000000  62.286681  64.445112\n",
       "Common Core English              70.127791  70.985279  69.814025\n",
       "Common Core Geometry             58.875746  57.844312  60.217106\n",
       "English                          68.662884  59.400419   0.000000\n",
       "Geometry                         63.498792  56.363973   0.000000\n",
       "Global History and Geography     64.190004  64.026860  64.103262\n",
       "Integrated Algebra               65.057996  64.312368   0.000000\n",
       "Living Environment               69.202676  69.515624  68.375500\n",
       "Physical Settings/Chemistry      64.029417  64.368441  63.704417\n",
       "Physical Settings/Earth Science  64.233453  64.081152  62.363842\n",
       "Physical Settings/Physics        66.805046  65.299900  67.030422\n",
       "U.S. History and Government      72.032295  70.612956  70.479436"
      ]
     },
     "execution_count": 46,
     "metadata": {},
     "output_type": "execute_result"
    },
    {
     "name": "stdout",
     "output_type": "stream",
     "text": [
      "Exam Avg Score: Townsend Harris High School\n"
     ]
    },
    {
     "data": {
      "text/html": [
       "<div>\n",
       "<style scoped>\n",
       "    .dataframe tbody tr th:only-of-type {\n",
       "        vertical-align: middle;\n",
       "    }\n",
       "\n",
       "    .dataframe tbody tr th {\n",
       "        vertical-align: top;\n",
       "    }\n",
       "\n",
       "    .dataframe thead th {\n",
       "        text-align: right;\n",
       "    }\n",
       "</style>\n",
       "<table border=\"1\" class=\"dataframe\">\n",
       "  <thead>\n",
       "    <tr style=\"text-align: right;\">\n",
       "      <th>year</th>\n",
       "      <th>2015</th>\n",
       "      <th>2016</th>\n",
       "      <th>2017</th>\n",
       "    </tr>\n",
       "    <tr>\n",
       "      <th>regents_exam</th>\n",
       "      <th></th>\n",
       "      <th></th>\n",
       "      <th></th>\n",
       "    </tr>\n",
       "  </thead>\n",
       "  <tbody>\n",
       "    <tr>\n",
       "      <th>Algebra2/Trigonometry</th>\n",
       "      <td>90.612500</td>\n",
       "      <td>93.010000</td>\n",
       "      <td>0.000000</td>\n",
       "    </tr>\n",
       "    <tr>\n",
       "      <th>Common Core Algebra</th>\n",
       "      <td>78.085714</td>\n",
       "      <td>87.130000</td>\n",
       "      <td>89.150000</td>\n",
       "    </tr>\n",
       "    <tr>\n",
       "      <th>Common Core Algebra2</th>\n",
       "      <td>0.000000</td>\n",
       "      <td>79.000000</td>\n",
       "      <td>85.975000</td>\n",
       "    </tr>\n",
       "    <tr>\n",
       "      <th>Common Core English</th>\n",
       "      <td>95.377778</td>\n",
       "      <td>95.033333</td>\n",
       "      <td>93.516667</td>\n",
       "    </tr>\n",
       "    <tr>\n",
       "      <th>Common Core Geometry</th>\n",
       "      <td>88.030000</td>\n",
       "      <td>85.230000</td>\n",
       "      <td>86.516667</td>\n",
       "    </tr>\n",
       "    <tr>\n",
       "      <th>English</th>\n",
       "      <td>91.800000</td>\n",
       "      <td>0.000000</td>\n",
       "      <td>0.000000</td>\n",
       "    </tr>\n",
       "    <tr>\n",
       "      <th>Geometry</th>\n",
       "      <td>93.210000</td>\n",
       "      <td>0.000000</td>\n",
       "      <td>0.000000</td>\n",
       "    </tr>\n",
       "    <tr>\n",
       "      <th>Global History and Geography</th>\n",
       "      <td>94.755556</td>\n",
       "      <td>93.258333</td>\n",
       "      <td>92.700000</td>\n",
       "    </tr>\n",
       "    <tr>\n",
       "      <th>Integrated Algebra</th>\n",
       "      <td>87.200000</td>\n",
       "      <td>0.000000</td>\n",
       "      <td>0.000000</td>\n",
       "    </tr>\n",
       "    <tr>\n",
       "      <th>Living Environment</th>\n",
       "      <td>91.860000</td>\n",
       "      <td>90.660000</td>\n",
       "      <td>89.675000</td>\n",
       "    </tr>\n",
       "    <tr>\n",
       "      <th>Physical Settings/Chemistry</th>\n",
       "      <td>87.850000</td>\n",
       "      <td>86.383333</td>\n",
       "      <td>87.150000</td>\n",
       "    </tr>\n",
       "    <tr>\n",
       "      <th>Physical Settings/Earth Science</th>\n",
       "      <td>0.000000</td>\n",
       "      <td>0.000000</td>\n",
       "      <td>73.300000</td>\n",
       "    </tr>\n",
       "    <tr>\n",
       "      <th>Physical Settings/Physics</th>\n",
       "      <td>86.875000</td>\n",
       "      <td>83.144444</td>\n",
       "      <td>86.330000</td>\n",
       "    </tr>\n",
       "    <tr>\n",
       "      <th>U.S. History and Government</th>\n",
       "      <td>96.700000</td>\n",
       "      <td>96.255556</td>\n",
       "      <td>94.608333</td>\n",
       "    </tr>\n",
       "  </tbody>\n",
       "</table>\n",
       "</div>"
      ],
      "text/plain": [
       "year                                  2015       2016       2017\n",
       "regents_exam                                                    \n",
       "Algebra2/Trigonometry            90.612500  93.010000   0.000000\n",
       "Common Core Algebra              78.085714  87.130000  89.150000\n",
       "Common Core Algebra2              0.000000  79.000000  85.975000\n",
       "Common Core English              95.377778  95.033333  93.516667\n",
       "Common Core Geometry             88.030000  85.230000  86.516667\n",
       "English                          91.800000   0.000000   0.000000\n",
       "Geometry                         93.210000   0.000000   0.000000\n",
       "Global History and Geography     94.755556  93.258333  92.700000\n",
       "Integrated Algebra               87.200000   0.000000   0.000000\n",
       "Living Environment               91.860000  90.660000  89.675000\n",
       "Physical Settings/Chemistry      87.850000  86.383333  87.150000\n",
       "Physical Settings/Earth Science   0.000000   0.000000  73.300000\n",
       "Physical Settings/Physics        86.875000  83.144444  86.330000\n",
       "U.S. History and Government      96.700000  96.255556  94.608333"
      ]
     },
     "execution_count": 46,
     "metadata": {},
     "output_type": "execute_result"
    }
   ],
   "source": [
    "#pivot for All School\n",
    "df_set_all_pivot = pd.pivot_table(df_set_all, values='mean_score', index=['regents_exam'], \n",
    "                                  columns=['year'], aggfunc=np.mean, fill_value=0)\n",
    "df_set_all_pivot.reset_index(inplace=True)\n",
    "df_set_all_pivot = df_set_all_pivot.set_index('regents_exam')\n",
    "print('Exam Avg Score: All School')\n",
    "df_set_all_pivot\n",
    "\n",
    "#pivot for 'Townsend Harris High School'\n",
    "df_set_th_pivot  = pd.pivot_table(df_set_th, values='mean_score', index=['regents_exam'], \n",
    "                                  columns=['year'], aggfunc=np.mean, fill_value=0)\n",
    "df_set_th_pivot.reset_index(inplace=True)\n",
    "df_set_th_pivot = df_set_th_pivot.set_index('regents_exam')\n",
    "print('Exam Avg Score: Townsend Harris High School')\n",
    "df_set_th_pivot\n",
    "\n",
    "#df_set_all_pivot['Type'] = \n",
    "#df_set_th_pivot['Type'] = \n",
    "\n"
   ]
  },
  {
   "cell_type": "code",
   "execution_count": 47,
   "metadata": {},
   "outputs": [
    {
     "name": "stdout",
     "output_type": "stream",
     "text": [
      "Exam Avg Score: All School\n"
     ]
    },
    {
     "data": {
      "text/html": [
       "<div>\n",
       "<style scoped>\n",
       "    .dataframe tbody tr th:only-of-type {\n",
       "        vertical-align: middle;\n",
       "    }\n",
       "\n",
       "    .dataframe tbody tr th {\n",
       "        vertical-align: top;\n",
       "    }\n",
       "\n",
       "    .dataframe thead th {\n",
       "        text-align: right;\n",
       "    }\n",
       "</style>\n",
       "<table border=\"1\" class=\"dataframe\">\n",
       "  <thead>\n",
       "    <tr style=\"text-align: right;\">\n",
       "      <th>year</th>\n",
       "      <th>2015</th>\n",
       "      <th>2016</th>\n",
       "      <th>2017</th>\n",
       "    </tr>\n",
       "    <tr>\n",
       "      <th>regents_exam</th>\n",
       "      <th></th>\n",
       "      <th></th>\n",
       "      <th></th>\n",
       "    </tr>\n",
       "  </thead>\n",
       "  <tbody>\n",
       "    <tr>\n",
       "      <th>Algebra2/Trigonometry</th>\n",
       "      <td>57.165101</td>\n",
       "      <td>56.230590</td>\n",
       "      <td>52.847756</td>\n",
       "    </tr>\n",
       "    <tr>\n",
       "      <th>Common Core Algebra</th>\n",
       "      <td>63.150452</td>\n",
       "      <td>68.653734</td>\n",
       "      <td>69.936625</td>\n",
       "    </tr>\n",
       "    <tr>\n",
       "      <th>Common Core Algebra2</th>\n",
       "      <td>0.000000</td>\n",
       "      <td>62.286681</td>\n",
       "      <td>64.445112</td>\n",
       "    </tr>\n",
       "    <tr>\n",
       "      <th>Common Core English</th>\n",
       "      <td>70.127791</td>\n",
       "      <td>70.985279</td>\n",
       "      <td>69.814025</td>\n",
       "    </tr>\n",
       "    <tr>\n",
       "      <th>Common Core Geometry</th>\n",
       "      <td>58.875746</td>\n",
       "      <td>57.844312</td>\n",
       "      <td>60.217106</td>\n",
       "    </tr>\n",
       "    <tr>\n",
       "      <th>English</th>\n",
       "      <td>68.662884</td>\n",
       "      <td>59.400419</td>\n",
       "      <td>0.000000</td>\n",
       "    </tr>\n",
       "    <tr>\n",
       "      <th>Geometry</th>\n",
       "      <td>63.498792</td>\n",
       "      <td>56.363973</td>\n",
       "      <td>0.000000</td>\n",
       "    </tr>\n",
       "    <tr>\n",
       "      <th>Global History and Geography</th>\n",
       "      <td>64.190004</td>\n",
       "      <td>64.026860</td>\n",
       "      <td>64.103262</td>\n",
       "    </tr>\n",
       "    <tr>\n",
       "      <th>Integrated Algebra</th>\n",
       "      <td>65.057996</td>\n",
       "      <td>64.312368</td>\n",
       "      <td>0.000000</td>\n",
       "    </tr>\n",
       "    <tr>\n",
       "      <th>Living Environment</th>\n",
       "      <td>69.202676</td>\n",
       "      <td>69.515624</td>\n",
       "      <td>68.375500</td>\n",
       "    </tr>\n",
       "    <tr>\n",
       "      <th>Physical Settings/Chemistry</th>\n",
       "      <td>64.029417</td>\n",
       "      <td>64.368441</td>\n",
       "      <td>63.704417</td>\n",
       "    </tr>\n",
       "    <tr>\n",
       "      <th>Physical Settings/Earth Science</th>\n",
       "      <td>64.233453</td>\n",
       "      <td>64.081152</td>\n",
       "      <td>62.363842</td>\n",
       "    </tr>\n",
       "    <tr>\n",
       "      <th>Physical Settings/Physics</th>\n",
       "      <td>66.805046</td>\n",
       "      <td>65.299900</td>\n",
       "      <td>67.030422</td>\n",
       "    </tr>\n",
       "    <tr>\n",
       "      <th>U.S. History and Government</th>\n",
       "      <td>72.032295</td>\n",
       "      <td>70.612956</td>\n",
       "      <td>70.479436</td>\n",
       "    </tr>\n",
       "  </tbody>\n",
       "</table>\n",
       "</div>"
      ],
      "text/plain": [
       "year                                  2015       2016       2017\n",
       "regents_exam                                                    \n",
       "Algebra2/Trigonometry            57.165101  56.230590  52.847756\n",
       "Common Core Algebra              63.150452  68.653734  69.936625\n",
       "Common Core Algebra2              0.000000  62.286681  64.445112\n",
       "Common Core English              70.127791  70.985279  69.814025\n",
       "Common Core Geometry             58.875746  57.844312  60.217106\n",
       "English                          68.662884  59.400419   0.000000\n",
       "Geometry                         63.498792  56.363973   0.000000\n",
       "Global History and Geography     64.190004  64.026860  64.103262\n",
       "Integrated Algebra               65.057996  64.312368   0.000000\n",
       "Living Environment               69.202676  69.515624  68.375500\n",
       "Physical Settings/Chemistry      64.029417  64.368441  63.704417\n",
       "Physical Settings/Earth Science  64.233453  64.081152  62.363842\n",
       "Physical Settings/Physics        66.805046  65.299900  67.030422\n",
       "U.S. History and Government      72.032295  70.612956  70.479436"
      ]
     },
     "execution_count": 47,
     "metadata": {},
     "output_type": "execute_result"
    },
    {
     "data": {
      "text/plain": [
       "Text(0.5, 0, 'regents_exam')"
      ]
     },
     "execution_count": 47,
     "metadata": {},
     "output_type": "execute_result"
    },
    {
     "data": {
      "text/plain": [
       "Text(0, 0.5, 'score')"
      ]
     },
     "execution_count": 47,
     "metadata": {},
     "output_type": "execute_result"
    },
    {
     "data": {
      "text/plain": [
       "(array([ 0,  1,  2,  3,  4,  5,  6,  7,  8,  9, 10, 11, 12, 13]),\n",
       " <a list of 14 Text major ticklabel objects>)"
      ]
     },
     "execution_count": 47,
     "metadata": {},
     "output_type": "execute_result"
    },
    {
     "data": {
      "image/png": "[encoded data removed]",
      "text/plain": [
       "<Figure size 864x432 with 1 Axes>"
      ]
     },
     "metadata": {
      "needs_background": "light"
     },
     "output_type": "display_data"
    }
   ],
   "source": [
    "#Chart for all schools\n",
    "print('Exam Avg Score: All School')\n",
    "df_set_all_pivot\n",
    "\n",
    "ax = df_set_all_pivot[[2015,2016,2017]].plot(kind='bar', title =\"All schools: Score per exam\", figsize=(12, 6), legend=True, fontsize=14)\n",
    "ax.set_xlabel(\"regents_exam\", fontsize=14)\n",
    "ax.set_ylabel(\"score\", fontsize=14)\n",
    "plt.xticks(rotation=30, ha='right')\n",
    "plt.savefig('images/all_schools.jpg', dpi=400, bbox_inches='tight')\n",
    "plt.show()\n",
    "\n"
   ]
  },
  {
   "cell_type": "code",
   "execution_count": 48,
   "metadata": {},
   "outputs": [
    {
     "data": {
      "text/plain": [
       "Text(0.5, 0, 'regents_exam')"
      ]
     },
     "execution_count": 48,
     "metadata": {},
     "output_type": "execute_result"
    },
    {
     "data": {
      "text/plain": [
       "Text(0, 0.5, 'score')"
      ]
     },
     "execution_count": 48,
     "metadata": {},
     "output_type": "execute_result"
    },
    {
     "data": {
      "text/plain": [
       "(array([ 0,  1,  2,  3,  4,  5,  6,  7,  8,  9, 10, 11, 12, 13]),\n",
       " <a list of 14 Text major ticklabel objects>)"
      ]
     },
     "execution_count": 48,
     "metadata": {},
     "output_type": "execute_result"
    },
    {
     "data": {
      "image/png": "[encoded data removed]",
      "text/plain": [
       "<Figure size 864x432 with 1 Axes>"
      ]
     },
     "metadata": {
      "needs_background": "light"
     },
     "output_type": "display_data"
    }
   ],
   "source": [
    "#Chart for 'Townsend Harris High School'\n",
    "ax = df_set_th_pivot[[2015,2016,2017]].plot(kind='bar', title =\"Regents exam score per exam\", figsize=(12, 6), legend=True, fontsize=14)\n",
    "ax.set_xlabel(\"regents_exam\", fontsize=14)\n",
    "ax.set_ylabel(\"score\", fontsize=14)\n",
    "plt.xticks(rotation=30, ha='right')\n",
    "plt.savefig('images/TownsendHarrisHighSchool.jpg', dpi=1200, bbox_inches='tight')\n",
    "plt.show()"
   ]
  },
  {
   "cell_type": "markdown",
   "metadata": {},
   "source": [
    "### Average Regents Score per Year:  Townsend Harris High School vs All Schools"
   ]
  },
  {
   "cell_type": "code",
   "execution_count": 49,
   "metadata": {},
   "outputs": [
    {
     "data": {
      "text/html": [
       "<div>\n",
       "<style scoped>\n",
       "    .dataframe tbody tr th:only-of-type {\n",
       "        vertical-align: middle;\n",
       "    }\n",
       "\n",
       "    .dataframe tbody tr th {\n",
       "        vertical-align: top;\n",
       "    }\n",
       "\n",
       "    .dataframe thead th {\n",
       "        text-align: right;\n",
       "    }\n",
       "</style>\n",
       "<table border=\"1\" class=\"dataframe\">\n",
       "  <thead>\n",
       "    <tr style=\"text-align: right;\">\n",
       "      <th></th>\n",
       "      <th>Score: for All Schools</th>\n",
       "      <th>Score: Townsend Harris High School</th>\n",
       "    </tr>\n",
       "    <tr>\n",
       "      <th>year</th>\n",
       "      <th></th>\n",
       "      <th></th>\n",
       "    </tr>\n",
       "  </thead>\n",
       "  <tbody>\n",
       "    <tr>\n",
       "      <th>2015</th>\n",
       "      <td>65.667863</td>\n",
       "      <td>90.903922</td>\n",
       "    </tr>\n",
       "    <tr>\n",
       "      <th>2016</th>\n",
       "      <td>65.596691</td>\n",
       "      <td>88.870297</td>\n",
       "    </tr>\n",
       "    <tr>\n",
       "      <th>2017</th>\n",
       "      <td>66.652459</td>\n",
       "      <td>89.315385</td>\n",
       "    </tr>\n",
       "  </tbody>\n",
       "</table>\n",
       "</div>"
      ],
      "text/plain": [
       "      Score: for All Schools  Score: Townsend Harris High School\n",
       "year                                                            \n",
       "2015               65.667863                           90.903922\n",
       "2016               65.596691                           88.870297\n",
       "2017               66.652459                           89.315385"
      ]
     },
     "execution_count": 49,
     "metadata": {},
     "output_type": "execute_result"
    },
    {
     "data": {
      "text/plain": [
       "Text(0.5, 0, 'Year')"
      ]
     },
     "execution_count": 49,
     "metadata": {},
     "output_type": "execute_result"
    },
    {
     "data": {
      "text/plain": [
       "Text(0, 0.5, 'score')"
      ]
     },
     "execution_count": 49,
     "metadata": {},
     "output_type": "execute_result"
    },
    {
     "data": {
      "text/plain": [
       "(array([0, 1, 2]), <a list of 3 Text major ticklabel objects>)"
      ]
     },
     "execution_count": 49,
     "metadata": {},
     "output_type": "execute_result"
    },
    {
     "data": {
      "image/png": "[encoded data removed]",
      "text/plain": [
       "<Figure size 1080x720 with 1 Axes>"
      ]
     },
     "metadata": {
      "needs_background": "light"
     },
     "output_type": "display_data"
    }
   ],
   "source": [
    "#Create new dataFrames for Average Regents Score per Year:  Townsend Harris High School vs All Schools\n",
    "test1 = df_set_all.groupby('year', as_index=False)['mean_score'].mean().rename(columns={'mean_score':'Score: for All Schools'})\n",
    "test2 = df_set_th.groupby('year', as_index=False)['mean_score'].mean().rename(columns={'mean_score':'Score: Townsend Harris High School'})\n",
    "\n",
    "test4 = pd.merge(test1, test2, how='left', on='year')\n",
    "test4 = test4.set_index('year')\n",
    "test4 \n",
    "\n",
    "#visualization for Average Regents Score per Year:  Townsend Harris High School vs All Schools\n",
    "ax = test4[['Score: for All Schools','Score: Townsend Harris High School']].plot(kind='bar', title =\"Average Regents Score per Year:  Townsend Harris High School vs All Schools \", figsize=(15, 10), legend=True, fontsize=14)\n",
    "ax.set_xlabel(\"Year\", fontsize=14)\n",
    "ax.set_ylabel(\"score\", fontsize=14)\n",
    "plt.xticks(rotation=30, ha='right')\n",
    "plt.show()"
   ]
  },
  {
   "cell_type": "markdown",
   "metadata": {},
   "source": [
    "### Average Total Regents Score per Year: Townsend Harris High School vs All Boro"
   ]
  },
  {
   "cell_type": "code",
   "execution_count": 55,
   "metadata": {},
   "outputs": [],
   "source": [
    "#create DataFrames for Average Total Regents Score per Year: Townsend Harris High School vs All Boro\n",
    "df_set_all_scores = df_set_all[['school_dbn', 'regents_exam', 'year',\n",
    "       'total_tested', 'mean_score', 'number_scoring_below_65',\n",
    "       'percent_scoring_below_65', 'number_scoring_65_or_above',\n",
    "       'percent_scoring_65_or_above', 'number_scoring_80_or_above',\n",
    "       'percent_scoring_80_or_above', 'number_scoring_cr',\n",
    "       'percent_scoring_cr']]\n",
    "\n",
    "df_set_all_scores_demo = df_set_all_scores.join(df_demo_raw.set_index('dbn'), on='school_dbn'  )\n",
    "df_set_all_queens = df_set_all_scores_demo[df_set_all_scores_demo['borough'] == 'QUEENS']\n",
    "df_set_all_bklyn = df_set_all_scores_demo[df_set_all_scores_demo['borough'] == 'BROOKLYN']\n",
    "df_set_all_bx = df_set_all_scores_demo[df_set_all_scores_demo['borough'] == 'BRONX']\n",
    "df_set_all_man = df_set_all_scores_demo[df_set_all_scores_demo['borough'] == 'MANHATTAN']\n",
    "df_set_all_si = df_set_all_scores_demo[df_set_all_scores_demo['borough'] == 'STATENIS']\n",
    "\n",
    "\n",
    "df_qu = df_set_all_queens.groupby('year', as_index=False)['mean_score'].mean().rename(columns={'mean_score':'All Schools in Queens'})\n",
    "df_bk = df_set_all_bklyn.groupby('year', as_index=False)['mean_score'].mean().rename(columns={'mean_score':'All Schools in Brooklyn'})\n",
    "df_bx = df_set_all_bx.groupby('year', as_index=False)['mean_score'].mean().rename(columns={'mean_score':'All Schools in Bronx'})\n",
    "df_ma = df_set_all_man.groupby('year', as_index=False)['mean_score'].mean().rename(columns={'mean_score':'All Schools in Manhattan'})\n",
    "df_si = df_set_all_si.groupby('year', as_index=False)['mean_score'].mean().rename(columns={'mean_score':'All Schools in Staten Island'})\n",
    "\n",
    "th_scores = df_set_th.groupby('year', as_index=False)['mean_score'].mean().rename(columns={'mean_score':'Townsend Harris High School'})\n",
    "\n",
    "table = pd.merge(th_scores, df_qu, how='left', on='year')\n",
    "table = table.set_index('year')\n",
    "table = pd.merge(table, df_bk, how='left', on='year')\n",
    "table = table.set_index('year')\n",
    "table = pd.merge(table, df_bx, how='left', on='year')\n",
    "table = table.set_index('year')\n",
    "table = pd.merge(table, df_ma, how='left', on='year')\n",
    "table = table.set_index('year')\n",
    "table = pd.merge(table, df_si, how='left', on='year')\n",
    "table = table.set_index('year')"
   ]
  },
  {
   "cell_type": "code",
   "execution_count": 56,
   "metadata": {
    "scrolled": true
   },
   "outputs": [
    {
     "data": {
      "text/html": [
       "<div>\n",
       "<style scoped>\n",
       "    .dataframe tbody tr th:only-of-type {\n",
       "        vertical-align: middle;\n",
       "    }\n",
       "\n",
       "    .dataframe tbody tr th {\n",
       "        vertical-align: top;\n",
       "    }\n",
       "\n",
       "    .dataframe thead th {\n",
       "        text-align: right;\n",
       "    }\n",
       "</style>\n",
       "<table border=\"1\" class=\"dataframe\">\n",
       "  <thead>\n",
       "    <tr style=\"text-align: right;\">\n",
       "      <th></th>\n",
       "      <th>Townsend Harris High School</th>\n",
       "      <th>All Schools in Queens</th>\n",
       "      <th>All Schools in Brooklyn</th>\n",
       "      <th>All Schools in Bronx</th>\n",
       "      <th>All Schools in Manhattan</th>\n",
       "      <th>All Schools in Staten Island</th>\n",
       "    </tr>\n",
       "    <tr>\n",
       "      <th>year</th>\n",
       "      <th></th>\n",
       "      <th></th>\n",
       "      <th></th>\n",
       "      <th></th>\n",
       "      <th></th>\n",
       "      <th></th>\n",
       "    </tr>\n",
       "  </thead>\n",
       "  <tbody>\n",
       "    <tr>\n",
       "      <th>2015</th>\n",
       "      <td>90.903922</td>\n",
       "      <td>67.541563</td>\n",
       "      <td>63.792708</td>\n",
       "      <td>62.430990</td>\n",
       "      <td>67.446016</td>\n",
       "      <td>67.276650</td>\n",
       "    </tr>\n",
       "    <tr>\n",
       "      <th>2016</th>\n",
       "      <td>88.870297</td>\n",
       "      <td>67.190465</td>\n",
       "      <td>63.234718</td>\n",
       "      <td>61.945064</td>\n",
       "      <td>67.174076</td>\n",
       "      <td>66.504305</td>\n",
       "    </tr>\n",
       "    <tr>\n",
       "      <th>2017</th>\n",
       "      <td>89.315385</td>\n",
       "      <td>68.097061</td>\n",
       "      <td>63.987765</td>\n",
       "      <td>62.589515</td>\n",
       "      <td>68.267228</td>\n",
       "      <td>68.931390</td>\n",
       "    </tr>\n",
       "  </tbody>\n",
       "</table>\n",
       "</div>"
      ],
      "text/plain": [
       "      Townsend Harris High School  All Schools in Queens  \\\n",
       "year                                                       \n",
       "2015                    90.903922              67.541563   \n",
       "2016                    88.870297              67.190465   \n",
       "2017                    89.315385              68.097061   \n",
       "\n",
       "      All Schools in Brooklyn  All Schools in Bronx  All Schools in Manhattan  \\\n",
       "year                                                                            \n",
       "2015                63.792708             62.430990                 67.446016   \n",
       "2016                63.234718             61.945064                 67.174076   \n",
       "2017                63.987765             62.589515                 68.267228   \n",
       "\n",
       "      All Schools in Staten Island  \n",
       "year                                \n",
       "2015                     67.276650  \n",
       "2016                     66.504305  \n",
       "2017                     68.931390  "
      ]
     },
     "execution_count": 56,
     "metadata": {},
     "output_type": "execute_result"
    },
    {
     "data": {
      "text/plain": [
       "Text(0.5, 0, 'Year')"
      ]
     },
     "execution_count": 56,
     "metadata": {},
     "output_type": "execute_result"
    },
    {
     "data": {
      "text/plain": [
       "Text(0, 0.5, 'score')"
      ]
     },
     "execution_count": 56,
     "metadata": {},
     "output_type": "execute_result"
    },
    {
     "data": {
      "text/plain": [
       "(array([0, 1, 2]), <a list of 3 Text major ticklabel objects>)"
      ]
     },
     "execution_count": 56,
     "metadata": {},
     "output_type": "execute_result"
    },
    {
     "data": {
      "image/png": "[encoded data removed]",
      "text/plain": [
       "<Figure size 1080x720 with 1 Axes>"
      ]
     },
     "metadata": {
      "needs_background": "light"
     },
     "output_type": "display_data"
    }
   ],
   "source": [
    "#create DataFrames for Average Total Regents Score per Year: Townsend Harris High School vs All Boro\n",
    "table\n",
    "ax = table[['Townsend Harris High School','All Schools in Queens','All Schools in Bronx','All Schools in Brooklyn','All Schools in Manhattan','All Schools in Staten Island']].plot(kind='bar', \n",
    "title =\"Average Total Regents Score per Year: Townsend Harris High School vs All Boro\", figsize=(15, 10), legend=True, fontsize=14)\n",
    "ax.set_xlabel(\"Year\", fontsize=14)\n",
    "ax.set_ylabel(\"score\", fontsize=14)\n",
    "plt.xticks(rotation=30, ha='right')\n",
    "plt.show()"
   ]
  },
  {
   "cell_type": "markdown",
   "metadata": {},
   "source": [
    "###### The purpose of this project is to compare regents exam scores between Townsend Harris High School and schools in all boroughs.\n",
    "###### Townsend Harris High School students outperformed all schools in all boroughs."
   ]
  },
  {
   "cell_type": "code",
   "execution_count": null,
   "metadata": {},
   "outputs": [],
   "source": []
  }
 ],
 "metadata": {
  "kernelspec": {
   "display_name": "Python 3",
   "language": "python",
   "name": "python3"
  },
  "language_info": {
   "codemirror_mode": {
    "name": "ipython",
    "version": 3
   },
   "file_extension": ".py",
   "mimetype": "text/x-python",
   "name": "python",
   "nbconvert_exporter": "python",
   "pygments_lexer": "ipython3",
   "version": "3.8.3"
  }
 },
 "nbformat": 4,
 "nbformat_minor": 4
}
